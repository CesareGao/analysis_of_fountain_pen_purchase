{
 "cells": [
  {
   "cell_type": "markdown",
   "metadata": {},
   "source": [
    "# Tranining model\n",
    "\n",
    "There are many model to be trained in this chapter:\n",
    "\n",
    "- Use the text feature to predict the price of the product.\n",
    "- Find which factors influnce the price of the product most.\n",
    "- Use the product factors to predict the ranking of the product"
   ]
  },
  {
   "cell_type": "code",
   "execution_count": 1,
   "metadata": {},
   "outputs": [],
   "source": [
    "%matplotlib inline \n",
    "import numpy as np\n",
    "import pandas as pd # for data analysis\n",
    "import matplotlib.pyplot as plt # for plotting\n",
    "from collections import Counter\n",
    "from sklearn.feature_extraction.text import CountVectorizer, TfidfVectorizer\n",
    "from sklearn.decomposition import PCA\n",
    "from mpl_toolkits.mplot3d import Axes3D\n",
    "from sklearn.model_selection import train_test_split\n",
    "from sklearn.linear_model import LassoCV, LogisticRegressionCV, RidgeCV\n",
    "from sklearn.metrics import classification_report\n",
    "from PIL import Image\n",
    "import requests\n",
    "from io import BytesIO"
   ]
  },
  {
   "cell_type": "code",
   "execution_count": 2,
   "metadata": {
    "scrolled": true
   },
   "outputs": [
    {
     "data": {
      "text/html": [
       "<div>\n",
       "<style scoped>\n",
       "    .dataframe tbody tr th:only-of-type {\n",
       "        vertical-align: middle;\n",
       "    }\n",
       "\n",
       "    .dataframe tbody tr th {\n",
       "        vertical-align: top;\n",
       "    }\n",
       "\n",
       "    .dataframe thead th {\n",
       "        text-align: right;\n",
       "    }\n",
       "</style>\n",
       "<table border=\"1\" class=\"dataframe\">\n",
       "  <thead>\n",
       "    <tr style=\"text-align: right;\">\n",
       "      <th></th>\n",
       "      <th>url</th>\n",
       "      <th>Product_Code</th>\n",
       "      <th>Name</th>\n",
       "      <th>In_Stock</th>\n",
       "      <th>Price</th>\n",
       "      <th>Nib_Size</th>\n",
       "      <th>Brand</th>\n",
       "      <th>Color</th>\n",
       "      <th>Demonstrator</th>\n",
       "      <th>Body_Material</th>\n",
       "      <th>...</th>\n",
       "      <th>Max_Ink_Capacity_Converter</th>\n",
       "      <th>Max_Ink_Capacity_Eyedropper</th>\n",
       "      <th>Cap_Rotations</th>\n",
       "      <th>created_at</th>\n",
       "      <th>description</th>\n",
       "      <th>featured_image</th>\n",
       "      <th>images</th>\n",
       "      <th>published_at</th>\n",
       "      <th>clean_description</th>\n",
       "      <th>Series</th>\n",
       "    </tr>\n",
       "  </thead>\n",
       "  <tbody>\n",
       "    <tr>\n",
       "      <th>0</th>\n",
       "      <td>https://www.gouletpens.com/collections/all-fou...</td>\n",
       "      <td>Plat-PSQ-400-01-1</td>\n",
       "      <td>Platinum Preppy Fountain Pen - Black</td>\n",
       "      <td>True</td>\n",
       "      <td>5.00</td>\n",
       "      <td>Extra-Fine, Fine, Medium</td>\n",
       "      <td>Platinum</td>\n",
       "      <td>Black</td>\n",
       "      <td>Yes</td>\n",
       "      <td>Resin</td>\n",
       "      <td>...</td>\n",
       "      <td>0.98</td>\n",
       "      <td>4.33</td>\n",
       "      <td>NaN</td>\n",
       "      <td>2018-05-02 10:28:05-04:00</td>\n",
       "      <td>\\nThe Platinum Preppy fountain pen is one of t...</td>\n",
       "      <td>//cdn.shopify.com/s/files/1/2603/2528/products...</td>\n",
       "      <td>['//cdn.shopify.com/s/files/1/2603/2528/produc...</td>\n",
       "      <td>2018-01-01 11:00:00-05:00</td>\n",
       "      <td>one best value money fantastic starter great l...</td>\n",
       "      <td>Preppy</td>\n",
       "    </tr>\n",
       "    <tr>\n",
       "      <th>1</th>\n",
       "      <td>https://www.gouletpens.com/collections/all-fou...</td>\n",
       "      <td>PN91111</td>\n",
       "      <td>Pilot Metropolitan Fountain Pen - Black Plain</td>\n",
       "      <td>True</td>\n",
       "      <td>23.99</td>\n",
       "      <td>Fine, Medium, 1.0mm Stub</td>\n",
       "      <td>Pilot</td>\n",
       "      <td>Black</td>\n",
       "      <td>No</td>\n",
       "      <td>Lacquered metal</td>\n",
       "      <td>...</td>\n",
       "      <td>1.30</td>\n",
       "      <td>NaN</td>\n",
       "      <td>NaN</td>\n",
       "      <td>2018-05-02 10:28:13-04:00</td>\n",
       "      <td>\\nA fantastic value from Pilot, the Metropolit...</td>\n",
       "      <td>//cdn.shopify.com/s/files/1/2603/2528/products...</td>\n",
       "      <td>['//cdn.shopify.com/s/files/1/2603/2528/produc...</td>\n",
       "      <td>2018-01-01 11:00:00-05:00</td>\n",
       "      <td>fantastic value favorite first black metal bod...</td>\n",
       "      <td>Metropolitan</td>\n",
       "    </tr>\n",
       "    <tr>\n",
       "      <th>2</th>\n",
       "      <td>https://www.gouletpens.com/collections/all-fou...</td>\n",
       "      <td>TW-M7445300</td>\n",
       "      <td>TWSBI ECO Fountain Pen - Clear</td>\n",
       "      <td>True</td>\n",
       "      <td>28.99</td>\n",
       "      <td>Extra-Fine, Fine, Medium, Broad, 1.1mm Stub</td>\n",
       "      <td>TWSBI</td>\n",
       "      <td>Clear</td>\n",
       "      <td>Yes</td>\n",
       "      <td>Resin</td>\n",
       "      <td>...</td>\n",
       "      <td>NaN</td>\n",
       "      <td>NaN</td>\n",
       "      <td>1.00</td>\n",
       "      <td>2018-05-02 10:28:24-04:00</td>\n",
       "      <td>\\r\\n                                    The TW...</td>\n",
       "      <td>//cdn.shopify.com/s/files/1/2603/2528/products...</td>\n",
       "      <td>['//cdn.shopify.com/s/files/1/2603/2528/produc...</td>\n",
       "      <td>2018-01-01 11:00:00-05:00</td>\n",
       "      <td>boast incredible value piston filling system a...</td>\n",
       "      <td>ECO</td>\n",
       "    </tr>\n",
       "    <tr>\n",
       "      <th>3</th>\n",
       "      <td>https://www.gouletpens.com/collections/all-fou...</td>\n",
       "      <td>N15021</td>\n",
       "      <td>Noodler's Ahab Flex Fountain Pen - Clear</td>\n",
       "      <td>True</td>\n",
       "      <td>23.00</td>\n",
       "      <td>Flex</td>\n",
       "      <td>Noodler's</td>\n",
       "      <td>Clear</td>\n",
       "      <td>Yes</td>\n",
       "      <td>Resin</td>\n",
       "      <td>...</td>\n",
       "      <td>NaN</td>\n",
       "      <td>6.17</td>\n",
       "      <td>2.25</td>\n",
       "      <td>2018-05-02 10:25:05-04:00</td>\n",
       "      <td>\\r\\n                                    The No...</td>\n",
       "      <td>//cdn.shopify.com/s/files/1/2603/2528/products...</td>\n",
       "      <td>['//cdn.shopify.com/s/files/1/2603/2528/produc...</td>\n",
       "      <td>2018-01-01 11:00:00-05:00</td>\n",
       "      <td>noodler 's ahab flex feature steel flexible 6 ...</td>\n",
       "      <td>Ahab Flex</td>\n",
       "    </tr>\n",
       "    <tr>\n",
       "      <th>4</th>\n",
       "      <td>https://www.gouletpens.com/collections/all-fou...</td>\n",
       "      <td>Plat-PSQ-400-03-1</td>\n",
       "      <td>Platinum Preppy Fountain Pen - Blue</td>\n",
       "      <td>True</td>\n",
       "      <td>4.98</td>\n",
       "      <td>Extra-Fine, Fine, Medium</td>\n",
       "      <td>Platinum</td>\n",
       "      <td>Blue</td>\n",
       "      <td>Yes</td>\n",
       "      <td>Resin</td>\n",
       "      <td>...</td>\n",
       "      <td>0.98</td>\n",
       "      <td>4.33</td>\n",
       "      <td>NaN</td>\n",
       "      <td>2018-05-02 10:28:06-04:00</td>\n",
       "      <td>\\nThe Platinum Preppy fountain pen is one of t...</td>\n",
       "      <td>//cdn.shopify.com/s/files/1/2603/2528/products...</td>\n",
       "      <td>['//cdn.shopify.com/s/files/1/2603/2528/produc...</td>\n",
       "      <td>2018-01-01 11:00:00-05:00</td>\n",
       "      <td>one best value money fantastic starter great l...</td>\n",
       "      <td>Preppy</td>\n",
       "    </tr>\n",
       "  </tbody>\n",
       "</table>\n",
       "<p>5 rows × 43 columns</p>\n",
       "</div>"
      ],
      "text/plain": [
       "                                                 url       Product_Code  \\\n",
       "0  https://www.gouletpens.com/collections/all-fou...  Plat-PSQ-400-01-1   \n",
       "1  https://www.gouletpens.com/collections/all-fou...            PN91111   \n",
       "2  https://www.gouletpens.com/collections/all-fou...        TW-M7445300   \n",
       "3  https://www.gouletpens.com/collections/all-fou...             N15021   \n",
       "4  https://www.gouletpens.com/collections/all-fou...  Plat-PSQ-400-03-1   \n",
       "\n",
       "                                            Name In_Stock  Price  \\\n",
       "0           Platinum Preppy Fountain Pen - Black     True   5.00   \n",
       "1  Pilot Metropolitan Fountain Pen - Black Plain     True  23.99   \n",
       "2                 TWSBI ECO Fountain Pen - Clear     True  28.99   \n",
       "3       Noodler's Ahab Flex Fountain Pen - Clear     True  23.00   \n",
       "4            Platinum Preppy Fountain Pen - Blue     True   4.98   \n",
       "\n",
       "                                      Nib_Size      Brand  Color Demonstrator  \\\n",
       "0                     Extra-Fine, Fine, Medium   Platinum  Black          Yes   \n",
       "1                     Fine, Medium, 1.0mm Stub      Pilot  Black           No   \n",
       "2  Extra-Fine, Fine, Medium, Broad, 1.1mm Stub      TWSBI  Clear          Yes   \n",
       "3                                         Flex  Noodler's  Clear          Yes   \n",
       "4                     Extra-Fine, Fine, Medium   Platinum   Blue          Yes   \n",
       "\n",
       "     Body_Material  ... Max_Ink_Capacity_Converter  \\\n",
       "0            Resin  ...                       0.98   \n",
       "1  Lacquered metal  ...                       1.30   \n",
       "2            Resin  ...                        NaN   \n",
       "3            Resin  ...                        NaN   \n",
       "4            Resin  ...                       0.98   \n",
       "\n",
       "  Max_Ink_Capacity_Eyedropper Cap_Rotations                 created_at  \\\n",
       "0                        4.33           NaN  2018-05-02 10:28:05-04:00   \n",
       "1                         NaN           NaN  2018-05-02 10:28:13-04:00   \n",
       "2                         NaN          1.00  2018-05-02 10:28:24-04:00   \n",
       "3                        6.17          2.25  2018-05-02 10:25:05-04:00   \n",
       "4                        4.33           NaN  2018-05-02 10:28:06-04:00   \n",
       "\n",
       "                                         description  \\\n",
       "0  \\nThe Platinum Preppy fountain pen is one of t...   \n",
       "1  \\nA fantastic value from Pilot, the Metropolit...   \n",
       "2  \\r\\n                                    The TW...   \n",
       "3  \\r\\n                                    The No...   \n",
       "4  \\nThe Platinum Preppy fountain pen is one of t...   \n",
       "\n",
       "                                      featured_image  \\\n",
       "0  //cdn.shopify.com/s/files/1/2603/2528/products...   \n",
       "1  //cdn.shopify.com/s/files/1/2603/2528/products...   \n",
       "2  //cdn.shopify.com/s/files/1/2603/2528/products...   \n",
       "3  //cdn.shopify.com/s/files/1/2603/2528/products...   \n",
       "4  //cdn.shopify.com/s/files/1/2603/2528/products...   \n",
       "\n",
       "                                              images  \\\n",
       "0  ['//cdn.shopify.com/s/files/1/2603/2528/produc...   \n",
       "1  ['//cdn.shopify.com/s/files/1/2603/2528/produc...   \n",
       "2  ['//cdn.shopify.com/s/files/1/2603/2528/produc...   \n",
       "3  ['//cdn.shopify.com/s/files/1/2603/2528/produc...   \n",
       "4  ['//cdn.shopify.com/s/files/1/2603/2528/produc...   \n",
       "\n",
       "                published_at  \\\n",
       "0  2018-01-01 11:00:00-05:00   \n",
       "1  2018-01-01 11:00:00-05:00   \n",
       "2  2018-01-01 11:00:00-05:00   \n",
       "3  2018-01-01 11:00:00-05:00   \n",
       "4  2018-01-01 11:00:00-05:00   \n",
       "\n",
       "                                   clean_description        Series  \n",
       "0  one best value money fantastic starter great l...        Preppy  \n",
       "1  fantastic value favorite first black metal bod...  Metropolitan  \n",
       "2  boast incredible value piston filling system a...           ECO  \n",
       "3  noodler 's ahab flex feature steel flexible 6 ...     Ahab Flex  \n",
       "4  one best value money fantastic starter great l...        Preppy  \n",
       "\n",
       "[5 rows x 43 columns]"
      ]
     },
     "execution_count": 2,
     "metadata": {},
     "output_type": "execute_result"
    }
   ],
   "source": [
    "pens_df = pd.read_csv(\"clean_fountain_pen_dataset.csv\").drop([\"Unnamed: 0\"],axis=1)\n",
    "pens_df.head()"
   ]
  },
  {
   "cell_type": "markdown",
   "metadata": {},
   "source": [
    "## *Model A*: use the text feature in predicting the price of the product\n",
    "\n",
    "I want to explore whether the text message does show the pattern of setting price tag. Most of time when we plan to buy a product, we want to check the product discription to see if its really worth to buy. Does the product discription really tell us something important, distinguishable from other product? I doubt this as I always have trouble to buy a product and may hesitate to make the final decision. So I want to build a model to verify it."
   ]
  },
  {
   "cell_type": "code",
   "execution_count": 3,
   "metadata": {},
   "outputs": [
    {
     "data": {
      "text/html": [
       "<div>\n",
       "<style scoped>\n",
       "    .dataframe tbody tr th:only-of-type {\n",
       "        vertical-align: middle;\n",
       "    }\n",
       "\n",
       "    .dataframe tbody tr th {\n",
       "        vertical-align: top;\n",
       "    }\n",
       "\n",
       "    .dataframe thead th {\n",
       "        text-align: right;\n",
       "    }\n",
       "</style>\n",
       "<table border=\"1\" class=\"dataframe\">\n",
       "  <thead>\n",
       "    <tr style=\"text-align: right;\">\n",
       "      <th></th>\n",
       "      <th>Price</th>\n",
       "      <th>clean_description</th>\n",
       "    </tr>\n",
       "  </thead>\n",
       "  <tbody>\n",
       "    <tr>\n",
       "      <th>621</th>\n",
       "      <td>316.0</td>\n",
       "      <td>“ nineteen-eleven ” feature matte black resin ...</td>\n",
       "    </tr>\n",
       "    <tr>\n",
       "      <th>50</th>\n",
       "      <td>3.3</td>\n",
       "      <td>fashionable disposable 's convenient easy use ...</td>\n",
       "    </tr>\n",
       "    <tr>\n",
       "      <th>178</th>\n",
       "      <td>108.0</td>\n",
       "      <td>art technology blended perfect symbiosis resul...</td>\n",
       "    </tr>\n",
       "    <tr>\n",
       "      <th>94</th>\n",
       "      <td>60.0</td>\n",
       "      <td>diamond 580alr come benchmark piston ink-filli...</td>\n",
       "    </tr>\n",
       "    <tr>\n",
       "      <th>580</th>\n",
       "      <td>123.0</td>\n",
       "      <td>opus 88 large eyedropper-filled piston operate...</td>\n",
       "    </tr>\n",
       "  </tbody>\n",
       "</table>\n",
       "</div>"
      ],
      "text/plain": [
       "     Price                                  clean_description\n",
       "621  316.0  “ nineteen-eleven ” feature matte black resin ...\n",
       "50     3.3  fashionable disposable 's convenient easy use ...\n",
       "178  108.0  art technology blended perfect symbiosis resul...\n",
       "94    60.0  diamond 580alr come benchmark piston ink-filli...\n",
       "580  123.0  opus 88 large eyedropper-filled piston operate..."
      ]
     },
     "execution_count": 3,
     "metadata": {},
     "output_type": "execute_result"
    }
   ],
   "source": [
    "model_A_df = pens_df[pens_df.clean_description.notnull()]\n",
    "model_A_df[[\"Price\",\"clean_description\"]].sample(5)"
   ]
  },
  {
   "cell_type": "markdown",
   "metadata": {},
   "source": [
    "### *Response Variable Choice 1*: continuous variable\n",
    "\n",
    "The price could explicitly give the intuition of how much the product worths."
   ]
  },
  {
   "cell_type": "code",
   "execution_count": 16,
   "metadata": {},
   "outputs": [],
   "source": [
    "y = model_A_df.Price"
   ]
  },
  {
   "cell_type": "markdown",
   "metadata": {},
   "source": [
    "### *Response Variable Choice 2*: discrete variable\n",
    "\n",
    "The price can be seperated as affordable and unaffordable sometimes, or more intutively with high and low price. That makes sense when we have limited budget.\n",
    "\n",
    "With domain knowledge, pen lovers always treat the $200 as the boundary between affordable and unaffordable pens."
   ]
  },
  {
   "cell_type": "code",
   "execution_count": 39,
   "metadata": {},
   "outputs": [],
   "source": [
    "y = np.where(model_A_df.Price < 200, 1, 0)"
   ]
  },
  {
   "cell_type": "code",
   "execution_count": 12,
   "metadata": {},
   "outputs": [
    {
     "data": {
      "text/plain": [
       "0.8024502297090352"
      ]
     },
     "execution_count": 12,
     "metadata": {},
     "output_type": "execute_result"
    }
   ],
   "source": [
    "y.mean()"
   ]
  },
  {
   "cell_type": "markdown",
   "metadata": {},
   "source": [
    "### *Explanatory Variable Choice 1*: use the count of each word to build the feature vector\n",
    "\n",
    "All the stopwords and the feature words for each individual pen have been removed. The count of each word could implicate the importance of the text. "
   ]
  },
  {
   "cell_type": "code",
   "execution_count": 24,
   "metadata": {},
   "outputs": [],
   "source": [
    "clean_text = model_A_df.clean_description\n",
    "vectorizer = CountVectorizer(min_df=5)\n",
    "X = vectorizer.fit_transform(clean_text)"
   ]
  },
  {
   "cell_type": "markdown",
   "metadata": {},
   "source": [
    "### *Explanatory Variable Choice 2*: use the tfid features of each word to build the feature vector\n",
    "\n",
    "The importance of the words will increase while the frequency of words in each text increase. But the importance is also limited by the frequency of word in all the text together. This inverse document frequency method can avoid the penalty of same words occur in multiple texts.\n",
    "\n",
    "In this dataset, this could effectively lower the occur of technical words of product and concentrate more on the unique discription of each product."
   ]
  },
  {
   "cell_type": "code",
   "execution_count": 21,
   "metadata": {},
   "outputs": [],
   "source": [
    "clean_text = model_A_df.clean_description\n",
    "vectorizer = TfidfVectorizer(min_df=1)\n",
    "X = vectorizer.fit_transform(clean_text)"
   ]
  },
  {
   "cell_type": "markdown",
   "metadata": {},
   "source": [
    "### *Explanatory Variable Choice 3*: use PCA to reduce the dimension of the frequency count feature vector\n",
    "\n",
    "As the frequency count data feature could be highly correlated, we could use PCA to find the principle components and recompute the feature vector to get less correlated data. This is useful for further logistic regression analysis as the logitstic regression can't seperate the correlation of the different predictors as Lasso or Ridge."
   ]
  },
  {
   "cell_type": "code",
   "execution_count": 41,
   "metadata": {},
   "outputs": [
    {
     "name": "stdout",
     "output_type": "stream",
     "text": [
      "(653, 3449)\n",
      "(653, 86)\n"
     ]
    }
   ],
   "source": [
    "clean_text = model_A_df.clean_description\n",
    "vectorizer = CountVectorizer(min_df=1)\n",
    "X = vectorizer.fit_transform(clean_text)\n",
    "\n",
    "pca = PCA(n_components=0.9)\n",
    "X_pca = pca.fit_transform(X.toarray())\n",
    "print(X.shape)\n",
    "print(X_pca.shape)\n",
    "X = X_pca"
   ]
  },
  {
   "cell_type": "code",
   "execution_count": 28,
   "metadata": {},
   "outputs": [
    {
     "data": {
      "text/plain": [
       "<mpl_toolkits.mplot3d.art3d.Path3DCollection at 0x7fa3802bb198>"
      ]
     },
     "execution_count": 28,
     "metadata": {},
     "output_type": "execute_result"
    },
    {
     "data": {
      "image/png": "[encoded data removed]",
      "text/plain": [
       "<Figure size 432x288 with 1 Axes>"
      ]
     },
     "metadata": {
      "needs_background": "light"
     },
     "output_type": "display_data"
    }
   ],
   "source": [
    "## Try projection with 3D PCA\n",
    "clean_text = model_A_df.clean_description\n",
    "vectorizer = CountVectorizer(min_df=5)\n",
    "X = vectorizer.fit_transform(clean_text)\n",
    "\n",
    "pca = PCA(n_components=3)\n",
    "X_pca = pca.fit_transform(X.toarray())\n",
    "\n",
    "fig = plt.figure()\n",
    "ax = Axes3D(fig)\n",
    "ax.scatter(X_pca[:,0], X_pca[:,1],X_pca[:,2], c=y)"
   ]
  },
  {
   "cell_type": "markdown",
   "metadata": {},
   "source": [
    "Both the 3D and 2D projection can not seperate the categorical response. Higher dimension is required."
   ]
  },
  {
   "cell_type": "markdown",
   "metadata": {},
   "source": [
    "### Split the data\n",
    "\n",
    "To use train-validate-test validation could cost lots of data in the validate data and test data. The dataset is quite a small dataset. So it's more reasonable to use cross validation method to reuse the data many times to get more information and more precise result."
   ]
  },
  {
   "cell_type": "code",
   "execution_count": 25,
   "metadata": {},
   "outputs": [],
   "source": [
    "## numeric response \n",
    "train_X, test_X, train_y, test_y = train_test_split(X,y,test_size=0.2)\n",
    "# val_X, test_X, val_y, test_y = train_test_split(test_X,test_y,test_size=0.5,random_state=1)\n",
    "# train_X.shape, val_X.shape, test_X.shape"
   ]
  },
  {
   "cell_type": "code",
   "execution_count": 42,
   "metadata": {},
   "outputs": [],
   "source": [
    "## categorical response for unbalanced class label\n",
    "train_X, test_X, train_y, test_y = train_test_split(X,y,test_size=0.2,stratify=y)"
   ]
  },
  {
   "cell_type": "markdown",
   "metadata": {},
   "source": [
    "### *Model Fitting Choice 1*: Ridge cross validation model\n",
    "\n",
    "I ignored the exploration of the linear regression model, because its obvious that, in text data, there is some relation between the words. There should be some pattern such that some words always come after the certain other word. In the transformed feature vector of each text, this behaves as highly coefficients amount the different feature words predictors. So the variable of each predictor could very among different random states and also cause model overfitting.\n",
    "\n",
    "So, for the continuous response, I choose the Ridge model to add penalty to the coefficient, suppress the co-linearity and get a better prediction."
   ]
  },
  {
   "cell_type": "code",
   "execution_count": 26,
   "metadata": {},
   "outputs": [
    {
     "name": "stderr",
     "output_type": "stream",
     "text": [
      "/mnt/c/Users/51606/Desktop/Denver/course/2019SP_data_science_tools/lib/python3.6/site-packages/sklearn/model_selection/_search.py:841: DeprecationWarning: The default of the `iid` parameter will change from True to False in version 0.22 and will be removed in 0.24. This will change numeric results when test-set sizes are unequal.\n",
      "  DeprecationWarning)\n"
     ]
    },
    {
     "data": {
      "text/plain": [
       "0.9319972104157817"
      ]
     },
     "execution_count": 26,
     "metadata": {},
     "output_type": "execute_result"
    }
   ],
   "source": [
    "ridge_reg = RidgeCV(cv=5,alphas=np.linspace(0.001,50,1000))\n",
    "ridge_reg.fit(train_X,train_y)\n",
    "ridge_reg.score(test_X,test_y)"
   ]
  },
  {
   "cell_type": "markdown",
   "metadata": {},
   "source": [
    "### *Model Fitting Choice 2*: Lasso cross validation model\n",
    "\n",
    "Different from the Ridge regression, Lasso uses l2 penalty(sum of squares) rather than l1 penalty(absolute value). So Lasso could compute zero coefficient. This property gives it the function to do predictors selection and slove model overfitting.\n",
    "\n",
    "To check for model overfitting and reduce its effect, the Lasso regression should be applied."
   ]
  },
  {
   "cell_type": "code",
   "execution_count": 27,
   "metadata": {
    "scrolled": true
   },
   "outputs": [
    {
     "name": "stderr",
     "output_type": "stream",
     "text": [
      "/mnt/c/Users/51606/Desktop/Denver/course/2019SP_data_science_tools/lib/python3.6/site-packages/sklearn/linear_model/coordinate_descent.py:492: ConvergenceWarning: Objective did not converge. You might want to increase the number of iterations. Fitting data with very small alpha may cause precision problems.\n",
      "  ConvergenceWarning)\n",
      "/mnt/c/Users/51606/Desktop/Denver/course/2019SP_data_science_tools/lib/python3.6/site-packages/sklearn/linear_model/coordinate_descent.py:492: ConvergenceWarning: Objective did not converge. You might want to increase the number of iterations. Fitting data with very small alpha may cause precision problems.\n",
      "  ConvergenceWarning)\n",
      "/mnt/c/Users/51606/Desktop/Denver/course/2019SP_data_science_tools/lib/python3.6/site-packages/sklearn/linear_model/coordinate_descent.py:492: ConvergenceWarning: Objective did not converge. You might want to increase the number of iterations. Fitting data with very small alpha may cause precision problems.\n",
      "  ConvergenceWarning)\n",
      "/mnt/c/Users/51606/Desktop/Denver/course/2019SP_data_science_tools/lib/python3.6/site-packages/sklearn/linear_model/coordinate_descent.py:492: ConvergenceWarning: Objective did not converge. You might want to increase the number of iterations. Fitting data with very small alpha may cause precision problems.\n",
      "  ConvergenceWarning)\n"
     ]
    },
    {
     "data": {
      "text/plain": [
       "0.8706798030636994"
      ]
     },
     "execution_count": 27,
     "metadata": {},
     "output_type": "execute_result"
    }
   ],
   "source": [
    "lasso_reg = LassoCV(cv=5,alphas=np.linspace(0.001,50,1000))\n",
    "lasso_reg.fit(train_X,train_y)\n",
    "lasso_reg.score(test_X,test_y)"
   ]
  },
  {
   "cell_type": "markdown",
   "metadata": {},
   "source": [
    "### *Model Fitting Choice 3*: Logistic regression cross validation model\n",
    "\n",
    "If the response variable is a two-level categorical variable. Logistic regression is applied.\n",
    "\n",
    "**Parameter setting**\n",
    "\n",
    "- The C is set to be choosen from 1000 values between 1e-4 and 1e4 by grid search.\n",
    "- The number of products is far smaller than the number of features, so the dual formulation should be implemented to avoid the lower explanatory functionality of each features. Under this condition, only the \"liblinear\" solver and ridge penalty could be choosen."
   ]
  },
  {
   "cell_type": "code",
   "execution_count": 15,
   "metadata": {
    "scrolled": true
   },
   "outputs": [
    {
     "name": "stdout",
     "output_type": "stream",
     "text": [
      "0.9770992366412213\n",
      "              precision    recall  f1-score   support\n",
      "\n",
      "   low_price       0.96      0.92      0.94        26\n",
      "  high_price       0.98      0.99      0.99       105\n",
      "\n",
      "   micro avg       0.98      0.98      0.98       131\n",
      "   macro avg       0.97      0.96      0.96       131\n",
      "weighted avg       0.98      0.98      0.98       131\n",
      "\n"
     ]
    }
   ],
   "source": [
    "logistic_reg = LogisticRegressionCV(Cs=1000,cv=5,dual=True,penalty=\"l2\",solver=\"liblinear\",max_iter=1000)\n",
    "logistic_reg.fit(train_X,train_y)\n",
    "print(logistic_reg.score(test_X,test_y))\n",
    "predict_y = logistic_reg.predict(test_X)\n",
    "print(classification_report(test_y,predict_y,target_names=[\"low_price\",\"high_price\"]))"
   ]
  },
  {
   "cell_type": "markdown",
   "metadata": {},
   "source": [
    "### *Model Fitting Choice 4*: Logistic regression cross validation model with PCA components\n",
    "\n",
    "Logistic regression can't handle the correlation between the different components. So using PCA to get principle component should get a better result.\n",
    "\n",
    "**Parameter setting**\n",
    "\n",
    "- The C is set to be choosen from 1000 values between 1e-4 and 1e4 by grid search.\n",
    "- The number of products is greater enough than the number of features under PCA. So we do not need to use the dual choice.\n",
    "- The Lasso regression is been implemented with the \"saga\" solver and \"l1\" penalty."
   ]
  },
  {
   "cell_type": "code",
   "execution_count": 44,
   "metadata": {},
   "outputs": [
    {
     "name": "stdout",
     "output_type": "stream",
     "text": [
      "0.9770992366412213\n",
      "              precision    recall  f1-score   support\n",
      "\n",
      "   low_price       0.90      1.00      0.95        26\n",
      "  high_price       1.00      0.97      0.99       105\n",
      "\n",
      "   micro avg       0.98      0.98      0.98       131\n",
      "   macro avg       0.95      0.99      0.97       131\n",
      "weighted avg       0.98      0.98      0.98       131\n",
      "\n"
     ]
    }
   ],
   "source": [
    "logistic_reg = LogisticRegressionCV(Cs = 1000,cv=5,max_iter=1000,penalty=\"l1\",solver=\"saga\")\n",
    "logistic_reg.fit(train_X,train_y)\n",
    "print(logistic_reg.score(test_X,test_y))\n",
    "predict_y = logistic_reg.predict(test_X)\n",
    "print(classification_report(test_y,predict_y,target_names=[\"low_price\",\"high_price\"]))"
   ]
  },
  {
   "cell_type": "markdown",
   "metadata": {},
   "source": [
    "### Model selection and model application\n",
    "\n",
    "According to the fitting accuracy score, the finally selected models for differen types of data are:\n",
    "\n",
    "- Response Variable Choice 1 $\\rightarrow$ Explanatory Variable Choice 1 $\\rightarrow$ numeric response split $\\rightarrow$ Model Fitting Choice 1. This model gets highest score of about 93%\n",
    "- Response Variable Choice 2 $\\rightarrow$ Explanatory Variable Choice 3 $\\rightarrow$ categorical response split $\\rightarrow$ Model Fitting Choice 4. This model gets highest score of 98%"
   ]
  },
  {
   "cell_type": "code",
   "execution_count": 38,
   "metadata": {
    "scrolled": false
   },
   "outputs": [
    {
     "name": "stdout",
     "output_type": "stream",
     "text": [
      "the predicted price vs actual price: $37.1 vs 23.0\n",
      "the predicted price vs actual price: $23.8 vs 52.0\n",
      "the predicted price vs actual price: $34.4 vs 28.99\n",
      "the predicted price vs actual price: $20.8 vs 16.1\n",
      "the predicted price vs actual price: $13.3 vs 17.6\n",
      "the predicted price vs actual price: $224.7 vs 176.0\n",
      "the predicted price vs actual price: $62.5 vs 240.0\n",
      "the predicted price vs actual price: $237.8 vs 96.0\n",
      "the predicted price vs actual price: $18.5 vs 17.0\n",
      "the predicted price vs actual price: $1570.7 vs 718.4\n"
     ]
    }
   ],
   "source": [
    "for _ in range(10):\n",
    "    idx = np.random.randint(0,model_A_df.shape[0]-1)\n",
    "    info = model_A_df.loc[idx][[\"Price\",\"description\",\"featured_image\"]]\n",
    "    # print(info[1])\n",
    "\n",
    "    # response = requests.get(\"http:\"+info[2])\n",
    "    # img = Image.open(BytesIO(response.content))\n",
    "    # plt.imshow(img)\n",
    "    \n",
    "    ## sample prediction of numeric response model\n",
    "    pred_price = round(ridge_reg.predict(X[idx,])[0],1)\n",
    "\n",
    "    print(\"The predicted price vs actual price: ${} vs {}\".format(pred_price,info[0]))"
   ]
  },
  {
   "cell_type": "code",
   "execution_count": 49,
   "metadata": {},
   "outputs": [
    {
     "name": "stdout",
     "output_type": "stream",
     "text": [
      "The predicted price label vs true label: low vs low\n",
      "The predicted price label vs true label: high vs low\n",
      "The predicted price label vs true label: high vs high\n",
      "The predicted price label vs true label: high vs high\n",
      "The predicted price label vs true label: low vs low\n",
      "The predicted price label vs true label: low vs high\n",
      "The predicted price label vs true label: low vs low\n",
      "The predicted price label vs true label: low vs low\n",
      "The predicted price label vs true label: low vs low\n",
      "The predicted price label vs true label: low vs low\n"
     ]
    }
   ],
   "source": [
    "for _ in range(10):\n",
    "    idx = np.random.randint(0,model_A_df.shape[0]-1)\n",
    "    info = model_A_df.loc[idx][[\"Price\",\"description\",\"featured_image\"]]\n",
    "    # print(info[1])\n",
    "\n",
    "    # response = requests.get(\"http:\"+info[2])\n",
    "    # img = Image.open(BytesIO(response.content))\n",
    "    # plt.imshow(img)\n",
    "\n",
    "    ## sample prediction of categorical response model\n",
    "    pred_label = \"low\" if logistic_reg.predict([X[idx,]])[0] == 1 else \"high\"\n",
    "    true_label = \"low\" if info[0] < 200 else \"high\"\n",
    "    print(\"The predicted price label vs true label: {} vs {}\".format(pred_label,true_label))"
   ]
  },
  {
   "cell_type": "markdown",
   "metadata": {},
   "source": [
    "## *Model A* Summary\n",
    "\n",
    "As I expected before, the text description can't precisely predict the product's price, which should means you can't tell the value of a product from its own description in this dataset case. The variance of the prediction greatly increased with the increasing of the actually price. This means the model actually not fitted well.\n",
    "\n",
    "But if we treat the price as the categorical reponse by my domain knowledge, the prediction for cheap and luxury pens are quite acceptable. This means you can tell the difference of this two different label while setting your budget when purchasing a product."
   ]
  }
 ],
 "metadata": {
  "kernelspec": {
   "display_name": "Python 3",
   "language": "python",
   "name": "python3"
  },
  "language_info": {
   "codemirror_mode": {
    "name": "ipython",
    "version": 3
   },
   "file_extension": ".py",
   "mimetype": "text/x-python",
   "name": "python",
   "nbconvert_exporter": "python",
   "pygments_lexer": "ipython3",
   "version": "3.6.7"
  }
 },
 "nbformat": 4,
 "nbformat_minor": 2
}
