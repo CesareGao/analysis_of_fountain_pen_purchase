{
 "cells": [
  {
   "cell_type": "markdown",
   "metadata": {},
   "source": [
    "# Tranining model\n",
    "\n",
    "There are many model to be trained in this chapter:\n",
    "\n",
    "- Use the text feature to predict the price of the product.\n",
    "- Find which factors influnce the price of the product most.\n",
    "- Use the product factors to predict the ranking of the product"
   ]
  },
  {
   "cell_type": "code",
   "execution_count": 36,
   "metadata": {},
   "outputs": [],
   "source": [
    "%matplotlib inline \n",
    "import numpy as np\n",
    "import pandas as pd # for data analysis\n",
    "import matplotlib.pyplot as plt # for plotting\n",
    "from collections import Counter\n",
    "from sklearn.feature_extraction.text import CountVectorizer, TfidfVectorizer\n",
    "from sklearn.decomposition import PCA\n",
    "from mpl_toolkits.mplot3d import Axes3D\n",
    "from sklearn.model_selection import train_test_split\n",
    "from sklearn.linear_model import LassoCV, LogisticRegressionCV, RidgeCV\n",
    "from sklearn.metrics import classification_report"
   ]
  },
  {
   "cell_type": "code",
   "execution_count": 2,
   "metadata": {
    "scrolled": true
   },
   "outputs": [
    {
     "data": {
      "text/html": [
       "<div>\n",
       "<style scoped>\n",
       "    .dataframe tbody tr th:only-of-type {\n",
       "        vertical-align: middle;\n",
       "    }\n",
       "\n",
       "    .dataframe tbody tr th {\n",
       "        vertical-align: top;\n",
       "    }\n",
       "\n",
       "    .dataframe thead th {\n",
       "        text-align: right;\n",
       "    }\n",
       "</style>\n",
       "<table border=\"1\" class=\"dataframe\">\n",
       "  <thead>\n",
       "    <tr style=\"text-align: right;\">\n",
       "      <th></th>\n",
       "      <th>url</th>\n",
       "      <th>Product_Code</th>\n",
       "      <th>Name</th>\n",
       "      <th>In_Stock</th>\n",
       "      <th>Price</th>\n",
       "      <th>Nib_Size</th>\n",
       "      <th>Brand</th>\n",
       "      <th>Color</th>\n",
       "      <th>Demonstrator</th>\n",
       "      <th>Body_Material</th>\n",
       "      <th>...</th>\n",
       "      <th>Max_Ink_Capacity_Converter</th>\n",
       "      <th>Max_Ink_Capacity_Eyedropper</th>\n",
       "      <th>Cap_Rotations</th>\n",
       "      <th>created_at</th>\n",
       "      <th>description</th>\n",
       "      <th>featured_image</th>\n",
       "      <th>images</th>\n",
       "      <th>published_at</th>\n",
       "      <th>clean_description</th>\n",
       "      <th>Series</th>\n",
       "    </tr>\n",
       "  </thead>\n",
       "  <tbody>\n",
       "    <tr>\n",
       "      <th>0</th>\n",
       "      <td>https://www.gouletpens.com/collections/all-fou...</td>\n",
       "      <td>Plat-PSQ-400-01-1</td>\n",
       "      <td>Platinum Preppy Fountain Pen - Black</td>\n",
       "      <td>True</td>\n",
       "      <td>5.00</td>\n",
       "      <td>Extra-Fine, Fine, Medium</td>\n",
       "      <td>Platinum</td>\n",
       "      <td>Black</td>\n",
       "      <td>Yes</td>\n",
       "      <td>Resin</td>\n",
       "      <td>...</td>\n",
       "      <td>0.98</td>\n",
       "      <td>4.33</td>\n",
       "      <td>NaN</td>\n",
       "      <td>2018-05-02 10:28:05-04:00</td>\n",
       "      <td>\\nThe Platinum Preppy fountain pen is one of t...</td>\n",
       "      <td>//cdn.shopify.com/s/files/1/2603/2528/products...</td>\n",
       "      <td>['//cdn.shopify.com/s/files/1/2603/2528/produc...</td>\n",
       "      <td>2018-01-01 11:00:00-05:00</td>\n",
       "      <td>one best value money fantastic starter great l...</td>\n",
       "      <td>Preppy</td>\n",
       "    </tr>\n",
       "    <tr>\n",
       "      <th>1</th>\n",
       "      <td>https://www.gouletpens.com/collections/all-fou...</td>\n",
       "      <td>PN91111</td>\n",
       "      <td>Pilot Metropolitan Fountain Pen - Black Plain</td>\n",
       "      <td>True</td>\n",
       "      <td>23.99</td>\n",
       "      <td>Fine, Medium, 1.0mm Stub</td>\n",
       "      <td>Pilot</td>\n",
       "      <td>Black</td>\n",
       "      <td>No</td>\n",
       "      <td>Lacquered metal</td>\n",
       "      <td>...</td>\n",
       "      <td>1.30</td>\n",
       "      <td>NaN</td>\n",
       "      <td>NaN</td>\n",
       "      <td>2018-05-02 10:28:13-04:00</td>\n",
       "      <td>\\nA fantastic value from Pilot, the Metropolit...</td>\n",
       "      <td>//cdn.shopify.com/s/files/1/2603/2528/products...</td>\n",
       "      <td>['//cdn.shopify.com/s/files/1/2603/2528/produc...</td>\n",
       "      <td>2018-01-01 11:00:00-05:00</td>\n",
       "      <td>fantastic value favorite first black metal bod...</td>\n",
       "      <td>Metropolitan</td>\n",
       "    </tr>\n",
       "    <tr>\n",
       "      <th>2</th>\n",
       "      <td>https://www.gouletpens.com/collections/all-fou...</td>\n",
       "      <td>TW-M7445300</td>\n",
       "      <td>TWSBI ECO Fountain Pen - Clear</td>\n",
       "      <td>True</td>\n",
       "      <td>28.99</td>\n",
       "      <td>Extra-Fine, Fine, Medium, Broad, 1.1mm Stub</td>\n",
       "      <td>TWSBI</td>\n",
       "      <td>Clear</td>\n",
       "      <td>Yes</td>\n",
       "      <td>Resin</td>\n",
       "      <td>...</td>\n",
       "      <td>NaN</td>\n",
       "      <td>NaN</td>\n",
       "      <td>1.00</td>\n",
       "      <td>2018-05-02 10:28:24-04:00</td>\n",
       "      <td>\\r\\n                                    The TW...</td>\n",
       "      <td>//cdn.shopify.com/s/files/1/2603/2528/products...</td>\n",
       "      <td>['//cdn.shopify.com/s/files/1/2603/2528/produc...</td>\n",
       "      <td>2018-01-01 11:00:00-05:00</td>\n",
       "      <td>boast incredible value piston filling system a...</td>\n",
       "      <td>ECO</td>\n",
       "    </tr>\n",
       "    <tr>\n",
       "      <th>3</th>\n",
       "      <td>https://www.gouletpens.com/collections/all-fou...</td>\n",
       "      <td>N15021</td>\n",
       "      <td>Noodler's Ahab Flex Fountain Pen - Clear</td>\n",
       "      <td>True</td>\n",
       "      <td>23.00</td>\n",
       "      <td>Flex</td>\n",
       "      <td>Noodler's</td>\n",
       "      <td>Clear</td>\n",
       "      <td>Yes</td>\n",
       "      <td>Resin</td>\n",
       "      <td>...</td>\n",
       "      <td>NaN</td>\n",
       "      <td>6.17</td>\n",
       "      <td>2.25</td>\n",
       "      <td>2018-05-02 10:25:05-04:00</td>\n",
       "      <td>\\r\\n                                    The No...</td>\n",
       "      <td>//cdn.shopify.com/s/files/1/2603/2528/products...</td>\n",
       "      <td>['//cdn.shopify.com/s/files/1/2603/2528/produc...</td>\n",
       "      <td>2018-01-01 11:00:00-05:00</td>\n",
       "      <td>noodler 's ahab flex feature steel flexible 6 ...</td>\n",
       "      <td>Ahab Flex</td>\n",
       "    </tr>\n",
       "    <tr>\n",
       "      <th>4</th>\n",
       "      <td>https://www.gouletpens.com/collections/all-fou...</td>\n",
       "      <td>Plat-PSQ-400-03-1</td>\n",
       "      <td>Platinum Preppy Fountain Pen - Blue</td>\n",
       "      <td>True</td>\n",
       "      <td>4.98</td>\n",
       "      <td>Extra-Fine, Fine, Medium</td>\n",
       "      <td>Platinum</td>\n",
       "      <td>Blue</td>\n",
       "      <td>Yes</td>\n",
       "      <td>Resin</td>\n",
       "      <td>...</td>\n",
       "      <td>0.98</td>\n",
       "      <td>4.33</td>\n",
       "      <td>NaN</td>\n",
       "      <td>2018-05-02 10:28:06-04:00</td>\n",
       "      <td>\\nThe Platinum Preppy fountain pen is one of t...</td>\n",
       "      <td>//cdn.shopify.com/s/files/1/2603/2528/products...</td>\n",
       "      <td>['//cdn.shopify.com/s/files/1/2603/2528/produc...</td>\n",
       "      <td>2018-01-01 11:00:00-05:00</td>\n",
       "      <td>one best value money fantastic starter great l...</td>\n",
       "      <td>Preppy</td>\n",
       "    </tr>\n",
       "  </tbody>\n",
       "</table>\n",
       "<p>5 rows × 43 columns</p>\n",
       "</div>"
      ],
      "text/plain": [
       "                                                 url       Product_Code  \\\n",
       "0  https://www.gouletpens.com/collections/all-fou...  Plat-PSQ-400-01-1   \n",
       "1  https://www.gouletpens.com/collections/all-fou...            PN91111   \n",
       "2  https://www.gouletpens.com/collections/all-fou...        TW-M7445300   \n",
       "3  https://www.gouletpens.com/collections/all-fou...             N15021   \n",
       "4  https://www.gouletpens.com/collections/all-fou...  Plat-PSQ-400-03-1   \n",
       "\n",
       "                                            Name In_Stock  Price  \\\n",
       "0           Platinum Preppy Fountain Pen - Black     True   5.00   \n",
       "1  Pilot Metropolitan Fountain Pen - Black Plain     True  23.99   \n",
       "2                 TWSBI ECO Fountain Pen - Clear     True  28.99   \n",
       "3       Noodler's Ahab Flex Fountain Pen - Clear     True  23.00   \n",
       "4            Platinum Preppy Fountain Pen - Blue     True   4.98   \n",
       "\n",
       "                                      Nib_Size      Brand  Color Demonstrator  \\\n",
       "0                     Extra-Fine, Fine, Medium   Platinum  Black          Yes   \n",
       "1                     Fine, Medium, 1.0mm Stub      Pilot  Black           No   \n",
       "2  Extra-Fine, Fine, Medium, Broad, 1.1mm Stub      TWSBI  Clear          Yes   \n",
       "3                                         Flex  Noodler's  Clear          Yes   \n",
       "4                     Extra-Fine, Fine, Medium   Platinum   Blue          Yes   \n",
       "\n",
       "     Body_Material  ... Max_Ink_Capacity_Converter  \\\n",
       "0            Resin  ...                       0.98   \n",
       "1  Lacquered metal  ...                       1.30   \n",
       "2            Resin  ...                        NaN   \n",
       "3            Resin  ...                        NaN   \n",
       "4            Resin  ...                       0.98   \n",
       "\n",
       "  Max_Ink_Capacity_Eyedropper Cap_Rotations                 created_at  \\\n",
       "0                        4.33           NaN  2018-05-02 10:28:05-04:00   \n",
       "1                         NaN           NaN  2018-05-02 10:28:13-04:00   \n",
       "2                         NaN          1.00  2018-05-02 10:28:24-04:00   \n",
       "3                        6.17          2.25  2018-05-02 10:25:05-04:00   \n",
       "4                        4.33           NaN  2018-05-02 10:28:06-04:00   \n",
       "\n",
       "                                         description  \\\n",
       "0  \\nThe Platinum Preppy fountain pen is one of t...   \n",
       "1  \\nA fantastic value from Pilot, the Metropolit...   \n",
       "2  \\r\\n                                    The TW...   \n",
       "3  \\r\\n                                    The No...   \n",
       "4  \\nThe Platinum Preppy fountain pen is one of t...   \n",
       "\n",
       "                                      featured_image  \\\n",
       "0  //cdn.shopify.com/s/files/1/2603/2528/products...   \n",
       "1  //cdn.shopify.com/s/files/1/2603/2528/products...   \n",
       "2  //cdn.shopify.com/s/files/1/2603/2528/products...   \n",
       "3  //cdn.shopify.com/s/files/1/2603/2528/products...   \n",
       "4  //cdn.shopify.com/s/files/1/2603/2528/products...   \n",
       "\n",
       "                                              images  \\\n",
       "0  ['//cdn.shopify.com/s/files/1/2603/2528/produc...   \n",
       "1  ['//cdn.shopify.com/s/files/1/2603/2528/produc...   \n",
       "2  ['//cdn.shopify.com/s/files/1/2603/2528/produc...   \n",
       "3  ['//cdn.shopify.com/s/files/1/2603/2528/produc...   \n",
       "4  ['//cdn.shopify.com/s/files/1/2603/2528/produc...   \n",
       "\n",
       "                published_at  \\\n",
       "0  2018-01-01 11:00:00-05:00   \n",
       "1  2018-01-01 11:00:00-05:00   \n",
       "2  2018-01-01 11:00:00-05:00   \n",
       "3  2018-01-01 11:00:00-05:00   \n",
       "4  2018-01-01 11:00:00-05:00   \n",
       "\n",
       "                                   clean_description        Series  \n",
       "0  one best value money fantastic starter great l...        Preppy  \n",
       "1  fantastic value favorite first black metal bod...  Metropolitan  \n",
       "2  boast incredible value piston filling system a...           ECO  \n",
       "3  noodler 's ahab flex feature steel flexible 6 ...     Ahab Flex  \n",
       "4  one best value money fantastic starter great l...        Preppy  \n",
       "\n",
       "[5 rows x 43 columns]"
      ]
     },
     "execution_count": 2,
     "metadata": {},
     "output_type": "execute_result"
    }
   ],
   "source": [
    "pens_df = pd.read_csv(\"clean_fountain_pen_dataset.csv\").drop([\"Unnamed: 0\"],axis=1)\n",
    "pens_df.head()"
   ]
  },
  {
   "cell_type": "markdown",
   "metadata": {},
   "source": [
    "## *Model A*: use the text feature in predicting the price of the product\n",
    "\n",
    "I want to explore whether the text message does show the pattern of setting price tag. Most of time when we plan to buy a product, we want to check the product discription to see if its really worth to buy. Does the product discription really tell us something important, distinguishable from other product? I doubt this as I always have trouble to buy a product and may hesitate to make the final decision. So I want to build a model to verify it."
   ]
  },
  {
   "cell_type": "code",
   "execution_count": 30,
   "metadata": {},
   "outputs": [
    {
     "data": {
      "text/html": [
       "<div>\n",
       "<style scoped>\n",
       "    .dataframe tbody tr th:only-of-type {\n",
       "        vertical-align: middle;\n",
       "    }\n",
       "\n",
       "    .dataframe tbody tr th {\n",
       "        vertical-align: top;\n",
       "    }\n",
       "\n",
       "    .dataframe thead th {\n",
       "        text-align: right;\n",
       "    }\n",
       "</style>\n",
       "<table border=\"1\" class=\"dataframe\">\n",
       "  <thead>\n",
       "    <tr style=\"text-align: right;\">\n",
       "      <th></th>\n",
       "      <th>Price</th>\n",
       "      <th>clean_description</th>\n",
       "    </tr>\n",
       "  </thead>\n",
       "  <tbody>\n",
       "    <tr>\n",
       "      <th>541</th>\n",
       "      <td>68.0</td>\n",
       "      <td>usa back exquisite ever rodeo drive collection...</td>\n",
       "    </tr>\n",
       "    <tr>\n",
       "      <th>600</th>\n",
       "      <td>316.0</td>\n",
       "      <td>new feature dark blue five-sided faceted resin...</td>\n",
       "    </tr>\n",
       "    <tr>\n",
       "      <th>557</th>\n",
       "      <td>750.0</td>\n",
       "      <td>maki-e created collaboration maki-e artist kok...</td>\n",
       "    </tr>\n",
       "    <tr>\n",
       "      <th>377</th>\n",
       "      <td>27.0</td>\n",
       "      <td>frosted sport pocket-sized posted transforms f...</td>\n",
       "    </tr>\n",
       "    <tr>\n",
       "      <th>208</th>\n",
       "      <td>56.0</td>\n",
       "      <td>new series combine vintage appeal modern bold ...</td>\n",
       "    </tr>\n",
       "  </tbody>\n",
       "</table>\n",
       "</div>"
      ],
      "text/plain": [
       "     Price                                  clean_description\n",
       "541   68.0  usa back exquisite ever rodeo drive collection...\n",
       "600  316.0  new feature dark blue five-sided faceted resin...\n",
       "557  750.0  maki-e created collaboration maki-e artist kok...\n",
       "377   27.0  frosted sport pocket-sized posted transforms f...\n",
       "208   56.0  new series combine vintage appeal modern bold ..."
      ]
     },
     "execution_count": 30,
     "metadata": {},
     "output_type": "execute_result"
    }
   ],
   "source": [
    "pens_df[[\"Price\",\"clean_description\"]].sample(5)"
   ]
  },
  {
   "cell_type": "markdown",
   "metadata": {},
   "source": [
    "### *Response Variable Choice 1*: continuous variable\n",
    "\n",
    "The price could explicitly give the intuition of how much the product worths."
   ]
  },
  {
   "cell_type": "code",
   "execution_count": 3,
   "metadata": {},
   "outputs": [],
   "source": [
    "y = pens_df.Price[pens_df.clean_description.notnull()]"
   ]
  },
  {
   "cell_type": "markdown",
   "metadata": {},
   "source": [
    "### *Response Variable Choice 2*: discrete variable\n",
    "\n",
    "The price can be seperated as affordable and unaffordable sometimes, or more intutively with high and low price. That makes sense when we have limited budget.\n",
    "\n",
    "With domain knowledge, pen lovers always treat the $200 as the boundary between affordable and unaffordable pens."
   ]
  },
  {
   "cell_type": "code",
   "execution_count": 4,
   "metadata": {},
   "outputs": [],
   "source": [
    "y = np.where(pens_df.Price < 200, 1, 0)[pens_df.clean_description.notnull()]"
   ]
  },
  {
   "cell_type": "markdown",
   "metadata": {},
   "source": [
    "### *Explanatory Variable Choice 1*: use the count of each word to build the feature vector\n",
    "\n",
    "All the stopwords and the feature words for each individual pen have been removed. The count of each word could implicate the importance of the text. "
   ]
  },
  {
   "cell_type": "code",
   "execution_count": 33,
   "metadata": {},
   "outputs": [],
   "source": [
    "clean_text = pens_df.clean_description[pens_df.clean_description.notnull()]\n",
    "vectorizer = CountVectorizer(min_df=5)\n",
    "X = vectorizer.fit_transform(clean_text)"
   ]
  },
  {
   "cell_type": "markdown",
   "metadata": {},
   "source": [
    "### *Explanatory Variable Choice 2*: use the tfid features of each word to build the feature vector\n",
    "\n",
    "The importance of the words will increase while the frequency of words in each text increase. But the importance is also limited by the frequency of word in all the text together. This inverse document frequency method can avoid the penalty of same words occur in multiple texts.\n",
    "\n",
    "In this dataset, this could effectively lower the occur of technical words of product and concentrate more on the unique discription of each product."
   ]
  },
  {
   "cell_type": "code",
   "execution_count": 22,
   "metadata": {},
   "outputs": [],
   "source": [
    "clean_text = pens_df.clean_description[pens_df.clean_description.notnull()]\n",
    "vectorizer = TfidfVectorizer(min_df=1)\n",
    "X = vectorizer.fit_transform(clean_text)"
   ]
  },
  {
   "cell_type": "markdown",
   "metadata": {},
   "source": [
    "### *Explanatory Variable Choice 3*: use PCA to reduce the dimension of the frequency count feature vector\n",
    "\n",
    "As the frequency count data feature could be highly correlated, we could use PCA to find the principle components and recompute the feature vector to get less correlated data. This is useful for further logistic regression analysis as the logitstic regression can't seperate the correlation of the different predictors as Lasso or Ridge."
   ]
  },
  {
   "cell_type": "code",
   "execution_count": 24,
   "metadata": {},
   "outputs": [
    {
     "name": "stdout",
     "output_type": "stream",
     "text": [
      "(653, 3449)\n",
      "(653, 86)\n"
     ]
    }
   ],
   "source": [
    "clean_text = pens_df.clean_description[pens_df.clean_description.notnull()]\n",
    "vectorizer = CountVectorizer(min_df=1)\n",
    "X = vectorizer.fit_transform(clean_text)\n",
    "\n",
    "pca = PCA(n_components=0.9)\n",
    "X_pca = pca.fit_transform(X.toarray())\n",
    "print(X.shape)\n",
    "print(X_pca.shape)\n",
    "X = X_pca"
   ]
  },
  {
   "cell_type": "code",
   "execution_count": 37,
   "metadata": {},
   "outputs": [
    {
     "data": {
      "text/plain": [
       "<mpl_toolkits.mplot3d.art3d.Path3DCollection at 0x7f9774526160>"
      ]
     },
     "execution_count": 37,
     "metadata": {},
     "output_type": "execute_result"
    },
    {
     "data": {
      "image/png": "[encoded data removed]",
      "text/plain": [
       "<Figure size 432x288 with 1 Axes>"
      ]
     },
     "metadata": {
      "needs_background": "light"
     },
     "output_type": "display_data"
    }
   ],
   "source": [
    "## Try projection with 3D PCA\n",
    "clean_text = pens_df.clean_description[pens_df.clean_description.notnull()]\n",
    "vectorizer = CountVectorizer(min_df=5)\n",
    "X = vectorizer.fit_transform(clean_text)\n",
    "\n",
    "pca = PCA(n_components=3)\n",
    "X_pca = pca.fit_transform(X.toarray())\n",
    "\n",
    "fig = plt.figure()\n",
    "ax = Axes3D(fig)\n",
    "ax.scatter(X_pca[:,0], X_pca[:,1],X_pca[:,2], c=y)"
   ]
  },
  {
   "cell_type": "markdown",
   "metadata": {},
   "source": [
    "### Split the data\n",
    "\n",
    "To use train-validate-test validation could cost lots of data in the validate data and test data. The dataset is quite a small dataset. So it's more reasonable to use cross validation method to reuse the data many times to get more information and more precise result."
   ]
  },
  {
   "cell_type": "code",
   "execution_count": 25,
   "metadata": {},
   "outputs": [],
   "source": [
    "train_X, test_X, train_y, test_y = train_test_split(X,y,test_size=0.2,random_state=1)\n",
    "# val_X, test_X, val_y, test_y = train_test_split(test_X,test_y,test_size=0.5,random_state=1)\n",
    "# train_X.shape, val_X.shape, test_X.shape"
   ]
  },
  {
   "cell_type": "markdown",
   "metadata": {},
   "source": [
    "### *Model Fitting Choice 1*: Ridge cross validation model\n",
    "\n",
    "I ignored the exploration of the linear regression model, because its obvious that, in text data, there is some relation between the words. There should be some pattern such that some words always come after the certain other word. In the transformed feature vector of each text, this behaves as highly coefficients amount the different feature words predictors. So the variable of each predictor could very among different random states and also cause model overfitting.\n",
    "\n",
    "So, for the continuous response, I choose the Ridge model to add penalty to the coefficient, suppress the co-linearity and get a better prediction."
   ]
  },
  {
   "cell_type": "code",
   "execution_count": 63,
   "metadata": {},
   "outputs": [
    {
     "data": {
      "text/plain": [
       "0.8282018183379529"
      ]
     },
     "execution_count": 63,
     "metadata": {},
     "output_type": "execute_result"
    }
   ],
   "source": [
    "ridge_reg = RidgeCV(cv=5)\n",
    "ridge_reg.fit(train_X,train_y)\n",
    "ridge_reg.score(test_X,test_y)"
   ]
  },
  {
   "cell_type": "markdown",
   "metadata": {},
   "source": [
    "### *Model Fitting Choice 2*: Lasso cross validation model\n",
    "\n",
    "Different from the Ridge regression, Lasso uses l2 penalty(sum of squares) rather than l1 penalty(absolute value). So Lasso could compute zero coefficient. This property gives it the function to do predictors selection and slove model overfitting.\n",
    "\n",
    "To check for model overfitting and reduce its effect, the Lasso regression should be applied."
   ]
  },
  {
   "cell_type": "code",
   "execution_count": 64,
   "metadata": {},
   "outputs": [
    {
     "data": {
      "text/plain": [
       "0.8081049771887623"
      ]
     },
     "execution_count": 64,
     "metadata": {},
     "output_type": "execute_result"
    }
   ],
   "source": [
    "lasso_reg = LassoCV(cv=5)\n",
    "lasso_reg.fit(train_X,train_y)\n",
    "lasso_reg.score(test_X,test_y)"
   ]
  },
  {
   "cell_type": "markdown",
   "metadata": {},
   "source": [
    "### *Model Fitting Choice 3*: Logistic regression cross validation model\n",
    "\n",
    "If the response variable is a two-level categorical variable. Logistic regression is applied."
   ]
  },
  {
   "cell_type": "code",
   "execution_count": 68,
   "metadata": {},
   "outputs": [
    {
     "name": "stdout",
     "output_type": "stream",
     "text": [
      "0.9694656488549618\n",
      "              precision    recall  f1-score   support\n",
      "\n",
      "   low_price       1.00      0.86      0.92        28\n",
      "  high_price       0.96      1.00      0.98       103\n",
      "\n",
      "   micro avg       0.97      0.97      0.97       131\n",
      "   macro avg       0.98      0.93      0.95       131\n",
      "weighted avg       0.97      0.97      0.97       131\n",
      "\n"
     ]
    }
   ],
   "source": [
    "logistic_reg = LogisticRegressionCV(cv=5)\n",
    "logistic_reg.fit(train_X,train_y)\n",
    "print(logistic_reg.score(test_X,test_y))\n",
    "predict_y = logistic_reg.predict(test_X)\n",
    "print(classification_report(test_y,predict_y,target_names=[\"low_price\",\"high_price\"]))"
   ]
  },
  {
   "cell_type": "markdown",
   "metadata": {},
   "source": [
    "### *Model Fitting Choice 3*: Logistic regression cross validation model with PCA components\n",
    "\n",
    "Logistic regression can't handle the correlation between the different components. So using PCA to get principle component should get a better result."
   ]
  },
  {
   "cell_type": "code",
   "execution_count": 32,
   "metadata": {},
   "outputs": [
    {
     "name": "stdout",
     "output_type": "stream",
     "text": [
      "0.9770992366412213\n",
      "              precision    recall  f1-score   support\n",
      "\n",
      "   low_price       0.96      0.93      0.95        28\n",
      "  high_price       0.98      0.99      0.99       103\n",
      "\n",
      "   micro avg       0.98      0.98      0.98       131\n",
      "   macro avg       0.97      0.96      0.97       131\n",
      "weighted avg       0.98      0.98      0.98       131\n",
      "\n"
     ]
    }
   ],
   "source": [
    "logistic_reg = LogisticRegressionCV(cv=5,max_iter=1000)\n",
    "logistic_reg.fit(train_X,train_y)\n",
    "print(logistic_reg.score(test_X,test_y))\n",
    "predict_y = logistic_reg.predict(test_X)\n",
    "print(classification_report(test_y,predict_y,target_names=[\"low_price\",\"high_price\"]))"
   ]
  }
 ],
 "metadata": {
  "kernelspec": {
   "display_name": "Python 3",
   "language": "python",
   "name": "python3"
  },
  "language_info": {
   "codemirror_mode": {
    "name": "ipython",
    "version": 3
   },
   "file_extension": ".py",
   "mimetype": "text/x-python",
   "name": "python",
   "nbconvert_exporter": "python",
   "pygments_lexer": "ipython3",
   "version": "3.6.7"
  }
 },
 "nbformat": 4,
 "nbformat_minor": 2
}
