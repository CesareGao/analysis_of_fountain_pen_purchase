{
 "cells": [
  {
   "cell_type": "markdown",
   "metadata": {},
   "source": [
    "# Tranining model\n",
    "\n",
    "There are many model to be trained in this chapter:\n",
    "\n",
    "- Use the text feature to predict the price of the product.\n",
    "- Find which factors influnce the price of the product most.\n",
    "- Use the product factors to predict the ranking of the product"
   ]
  },
  {
   "cell_type": "code",
   "execution_count": 151,
   "metadata": {},
   "outputs": [],
   "source": [
    "%matplotlib inline \n",
    "import numpy as np\n",
    "import pandas as pd # for data analysis\n",
    "import matplotlib.pyplot as plt # for plotting\n",
    "from collections import Counter\n",
    "from sklearn.feature_extraction.text import CountVectorizer, TfidfVectorizer\n",
    "from sklearn.decomposition import PCA\n",
    "from mpl_toolkits.mplot3d import Axes3D\n",
    "from sklearn.model_selection import train_test_split\n",
    "from sklearn.linear_model import LassoCV, LogisticRegressionCV, RidgeCV\n",
    "from sklearn.metrics import classification_report\n",
    "from PIL import Image\n",
    "import requests\n",
    "from io import BytesIO"
   ]
  },
  {
   "cell_type": "code",
   "execution_count": 2,
   "metadata": {
    "scrolled": true
   },
   "outputs": [
    {
     "data": {
      "text/html": [
       "<div>\n",
       "<style scoped>\n",
       "    .dataframe tbody tr th:only-of-type {\n",
       "        vertical-align: middle;\n",
       "    }\n",
       "\n",
       "    .dataframe tbody tr th {\n",
       "        vertical-align: top;\n",
       "    }\n",
       "\n",
       "    .dataframe thead th {\n",
       "        text-align: right;\n",
       "    }\n",
       "</style>\n",
       "<table border=\"1\" class=\"dataframe\">\n",
       "  <thead>\n",
       "    <tr style=\"text-align: right;\">\n",
       "      <th></th>\n",
       "      <th>url</th>\n",
       "      <th>Product_Code</th>\n",
       "      <th>Name</th>\n",
       "      <th>In_Stock</th>\n",
       "      <th>Price</th>\n",
       "      <th>Nib_Size</th>\n",
       "      <th>Brand</th>\n",
       "      <th>Color</th>\n",
       "      <th>Demonstrator</th>\n",
       "      <th>Body_Material</th>\n",
       "      <th>...</th>\n",
       "      <th>Max_Ink_Capacity_Converter</th>\n",
       "      <th>Max_Ink_Capacity_Eyedropper</th>\n",
       "      <th>Cap_Rotations</th>\n",
       "      <th>created_at</th>\n",
       "      <th>description</th>\n",
       "      <th>featured_image</th>\n",
       "      <th>images</th>\n",
       "      <th>published_at</th>\n",
       "      <th>clean_description</th>\n",
       "      <th>Series</th>\n",
       "    </tr>\n",
       "  </thead>\n",
       "  <tbody>\n",
       "    <tr>\n",
       "      <th>0</th>\n",
       "      <td>https://www.gouletpens.com/collections/all-fou...</td>\n",
       "      <td>Plat-PSQ-400-01-1</td>\n",
       "      <td>Platinum Preppy Fountain Pen - Black</td>\n",
       "      <td>True</td>\n",
       "      <td>5.00</td>\n",
       "      <td>Extra-Fine, Fine, Medium</td>\n",
       "      <td>Platinum</td>\n",
       "      <td>Black</td>\n",
       "      <td>Yes</td>\n",
       "      <td>Resin</td>\n",
       "      <td>...</td>\n",
       "      <td>0.98</td>\n",
       "      <td>4.33</td>\n",
       "      <td>NaN</td>\n",
       "      <td>2018-05-02 10:28:05-04:00</td>\n",
       "      <td>\\nThe Platinum Preppy fountain pen is one of t...</td>\n",
       "      <td>//cdn.shopify.com/s/files/1/2603/2528/products...</td>\n",
       "      <td>['//cdn.shopify.com/s/files/1/2603/2528/produc...</td>\n",
       "      <td>2018-01-01 11:00:00-05:00</td>\n",
       "      <td>one best value money fantastic starter great l...</td>\n",
       "      <td>Preppy</td>\n",
       "    </tr>\n",
       "    <tr>\n",
       "      <th>1</th>\n",
       "      <td>https://www.gouletpens.com/collections/all-fou...</td>\n",
       "      <td>PN91111</td>\n",
       "      <td>Pilot Metropolitan Fountain Pen - Black Plain</td>\n",
       "      <td>True</td>\n",
       "      <td>23.99</td>\n",
       "      <td>Fine, Medium, 1.0mm Stub</td>\n",
       "      <td>Pilot</td>\n",
       "      <td>Black</td>\n",
       "      <td>No</td>\n",
       "      <td>Lacquered metal</td>\n",
       "      <td>...</td>\n",
       "      <td>1.30</td>\n",
       "      <td>NaN</td>\n",
       "      <td>NaN</td>\n",
       "      <td>2018-05-02 10:28:13-04:00</td>\n",
       "      <td>\\nA fantastic value from Pilot, the Metropolit...</td>\n",
       "      <td>//cdn.shopify.com/s/files/1/2603/2528/products...</td>\n",
       "      <td>['//cdn.shopify.com/s/files/1/2603/2528/produc...</td>\n",
       "      <td>2018-01-01 11:00:00-05:00</td>\n",
       "      <td>fantastic value favorite first black metal bod...</td>\n",
       "      <td>Metropolitan</td>\n",
       "    </tr>\n",
       "    <tr>\n",
       "      <th>2</th>\n",
       "      <td>https://www.gouletpens.com/collections/all-fou...</td>\n",
       "      <td>TW-M7445300</td>\n",
       "      <td>TWSBI ECO Fountain Pen - Clear</td>\n",
       "      <td>True</td>\n",
       "      <td>28.99</td>\n",
       "      <td>Extra-Fine, Fine, Medium, Broad, 1.1mm Stub</td>\n",
       "      <td>TWSBI</td>\n",
       "      <td>Clear</td>\n",
       "      <td>Yes</td>\n",
       "      <td>Resin</td>\n",
       "      <td>...</td>\n",
       "      <td>NaN</td>\n",
       "      <td>NaN</td>\n",
       "      <td>1.00</td>\n",
       "      <td>2018-05-02 10:28:24-04:00</td>\n",
       "      <td>\\r\\n                                    The TW...</td>\n",
       "      <td>//cdn.shopify.com/s/files/1/2603/2528/products...</td>\n",
       "      <td>['//cdn.shopify.com/s/files/1/2603/2528/produc...</td>\n",
       "      <td>2018-01-01 11:00:00-05:00</td>\n",
       "      <td>boast incredible value piston filling system a...</td>\n",
       "      <td>ECO</td>\n",
       "    </tr>\n",
       "    <tr>\n",
       "      <th>3</th>\n",
       "      <td>https://www.gouletpens.com/collections/all-fou...</td>\n",
       "      <td>N15021</td>\n",
       "      <td>Noodler's Ahab Flex Fountain Pen - Clear</td>\n",
       "      <td>True</td>\n",
       "      <td>23.00</td>\n",
       "      <td>Flex</td>\n",
       "      <td>Noodler's</td>\n",
       "      <td>Clear</td>\n",
       "      <td>Yes</td>\n",
       "      <td>Resin</td>\n",
       "      <td>...</td>\n",
       "      <td>NaN</td>\n",
       "      <td>6.17</td>\n",
       "      <td>2.25</td>\n",
       "      <td>2018-05-02 10:25:05-04:00</td>\n",
       "      <td>\\r\\n                                    The No...</td>\n",
       "      <td>//cdn.shopify.com/s/files/1/2603/2528/products...</td>\n",
       "      <td>['//cdn.shopify.com/s/files/1/2603/2528/produc...</td>\n",
       "      <td>2018-01-01 11:00:00-05:00</td>\n",
       "      <td>noodler 's ahab flex feature steel flexible 6 ...</td>\n",
       "      <td>Ahab Flex</td>\n",
       "    </tr>\n",
       "    <tr>\n",
       "      <th>4</th>\n",
       "      <td>https://www.gouletpens.com/collections/all-fou...</td>\n",
       "      <td>Plat-PSQ-400-03-1</td>\n",
       "      <td>Platinum Preppy Fountain Pen - Blue</td>\n",
       "      <td>True</td>\n",
       "      <td>4.98</td>\n",
       "      <td>Extra-Fine, Fine, Medium</td>\n",
       "      <td>Platinum</td>\n",
       "      <td>Blue</td>\n",
       "      <td>Yes</td>\n",
       "      <td>Resin</td>\n",
       "      <td>...</td>\n",
       "      <td>0.98</td>\n",
       "      <td>4.33</td>\n",
       "      <td>NaN</td>\n",
       "      <td>2018-05-02 10:28:06-04:00</td>\n",
       "      <td>\\nThe Platinum Preppy fountain pen is one of t...</td>\n",
       "      <td>//cdn.shopify.com/s/files/1/2603/2528/products...</td>\n",
       "      <td>['//cdn.shopify.com/s/files/1/2603/2528/produc...</td>\n",
       "      <td>2018-01-01 11:00:00-05:00</td>\n",
       "      <td>one best value money fantastic starter great l...</td>\n",
       "      <td>Preppy</td>\n",
       "    </tr>\n",
       "  </tbody>\n",
       "</table>\n",
       "<p>5 rows × 43 columns</p>\n",
       "</div>"
      ],
      "text/plain": [
       "                                                 url       Product_Code  \\\n",
       "0  https://www.gouletpens.com/collections/all-fou...  Plat-PSQ-400-01-1   \n",
       "1  https://www.gouletpens.com/collections/all-fou...            PN91111   \n",
       "2  https://www.gouletpens.com/collections/all-fou...        TW-M7445300   \n",
       "3  https://www.gouletpens.com/collections/all-fou...             N15021   \n",
       "4  https://www.gouletpens.com/collections/all-fou...  Plat-PSQ-400-03-1   \n",
       "\n",
       "                                            Name In_Stock  Price  \\\n",
       "0           Platinum Preppy Fountain Pen - Black     True   5.00   \n",
       "1  Pilot Metropolitan Fountain Pen - Black Plain     True  23.99   \n",
       "2                 TWSBI ECO Fountain Pen - Clear     True  28.99   \n",
       "3       Noodler's Ahab Flex Fountain Pen - Clear     True  23.00   \n",
       "4            Platinum Preppy Fountain Pen - Blue     True   4.98   \n",
       "\n",
       "                                      Nib_Size      Brand  Color Demonstrator  \\\n",
       "0                     Extra-Fine, Fine, Medium   Platinum  Black          Yes   \n",
       "1                     Fine, Medium, 1.0mm Stub      Pilot  Black           No   \n",
       "2  Extra-Fine, Fine, Medium, Broad, 1.1mm Stub      TWSBI  Clear          Yes   \n",
       "3                                         Flex  Noodler's  Clear          Yes   \n",
       "4                     Extra-Fine, Fine, Medium   Platinum   Blue          Yes   \n",
       "\n",
       "     Body_Material  ... Max_Ink_Capacity_Converter  \\\n",
       "0            Resin  ...                       0.98   \n",
       "1  Lacquered metal  ...                       1.30   \n",
       "2            Resin  ...                        NaN   \n",
       "3            Resin  ...                        NaN   \n",
       "4            Resin  ...                       0.98   \n",
       "\n",
       "  Max_Ink_Capacity_Eyedropper Cap_Rotations                 created_at  \\\n",
       "0                        4.33           NaN  2018-05-02 10:28:05-04:00   \n",
       "1                         NaN           NaN  2018-05-02 10:28:13-04:00   \n",
       "2                         NaN          1.00  2018-05-02 10:28:24-04:00   \n",
       "3                        6.17          2.25  2018-05-02 10:25:05-04:00   \n",
       "4                        4.33           NaN  2018-05-02 10:28:06-04:00   \n",
       "\n",
       "                                         description  \\\n",
       "0  \\nThe Platinum Preppy fountain pen is one of t...   \n",
       "1  \\nA fantastic value from Pilot, the Metropolit...   \n",
       "2  \\r\\n                                    The TW...   \n",
       "3  \\r\\n                                    The No...   \n",
       "4  \\nThe Platinum Preppy fountain pen is one of t...   \n",
       "\n",
       "                                      featured_image  \\\n",
       "0  //cdn.shopify.com/s/files/1/2603/2528/products...   \n",
       "1  //cdn.shopify.com/s/files/1/2603/2528/products...   \n",
       "2  //cdn.shopify.com/s/files/1/2603/2528/products...   \n",
       "3  //cdn.shopify.com/s/files/1/2603/2528/products...   \n",
       "4  //cdn.shopify.com/s/files/1/2603/2528/products...   \n",
       "\n",
       "                                              images  \\\n",
       "0  ['//cdn.shopify.com/s/files/1/2603/2528/produc...   \n",
       "1  ['//cdn.shopify.com/s/files/1/2603/2528/produc...   \n",
       "2  ['//cdn.shopify.com/s/files/1/2603/2528/produc...   \n",
       "3  ['//cdn.shopify.com/s/files/1/2603/2528/produc...   \n",
       "4  ['//cdn.shopify.com/s/files/1/2603/2528/produc...   \n",
       "\n",
       "                published_at  \\\n",
       "0  2018-01-01 11:00:00-05:00   \n",
       "1  2018-01-01 11:00:00-05:00   \n",
       "2  2018-01-01 11:00:00-05:00   \n",
       "3  2018-01-01 11:00:00-05:00   \n",
       "4  2018-01-01 11:00:00-05:00   \n",
       "\n",
       "                                   clean_description        Series  \n",
       "0  one best value money fantastic starter great l...        Preppy  \n",
       "1  fantastic value favorite first black metal bod...  Metropolitan  \n",
       "2  boast incredible value piston filling system a...           ECO  \n",
       "3  noodler 's ahab flex feature steel flexible 6 ...     Ahab Flex  \n",
       "4  one best value money fantastic starter great l...        Preppy  \n",
       "\n",
       "[5 rows x 43 columns]"
      ]
     },
     "execution_count": 2,
     "metadata": {},
     "output_type": "execute_result"
    }
   ],
   "source": [
    "pens_df = pd.read_csv(\"clean_fountain_pen_dataset.csv\").drop([\"Unnamed: 0\"],axis=1)\n",
    "pens_df.head()"
   ]
  },
  {
   "cell_type": "markdown",
   "metadata": {},
   "source": [
    "## *Model A*: use the text feature in predicting the price of the product\n",
    "\n",
    "I want to explore whether the text message does show the pattern of setting price tag. Most of time when we plan to buy a product, we want to check the product discription to see if its really worth to buy. Does the product discription really tell us something important, distinguishable from other product? I doubt this as I always have trouble to buy a product and may hesitate to make the final decision. So I want to build a model to verify it."
   ]
  },
  {
   "cell_type": "code",
   "execution_count": 22,
   "metadata": {},
   "outputs": [
    {
     "data": {
      "text/html": [
       "<div>\n",
       "<style scoped>\n",
       "    .dataframe tbody tr th:only-of-type {\n",
       "        vertical-align: middle;\n",
       "    }\n",
       "\n",
       "    .dataframe tbody tr th {\n",
       "        vertical-align: top;\n",
       "    }\n",
       "\n",
       "    .dataframe thead th {\n",
       "        text-align: right;\n",
       "    }\n",
       "</style>\n",
       "<table border=\"1\" class=\"dataframe\">\n",
       "  <thead>\n",
       "    <tr style=\"text-align: right;\">\n",
       "      <th></th>\n",
       "      <th>Price</th>\n",
       "      <th>clean_description</th>\n",
       "    </tr>\n",
       "  </thead>\n",
       "  <tbody>\n",
       "    <tr>\n",
       "      <th>523</th>\n",
       "      <td>169.0</td>\n",
       "      <td>made sonoran sunset resin gold-plated clip two...</td>\n",
       "    </tr>\n",
       "    <tr>\n",
       "      <th>518</th>\n",
       "      <td>90.0</td>\n",
       "      <td>graphic flamboyant collection feature pattern ...</td>\n",
       "    </tr>\n",
       "    <tr>\n",
       "      <th>297</th>\n",
       "      <td>120.0</td>\n",
       "      <td>innovative line strong attitude unmistakably s...</td>\n",
       "    </tr>\n",
       "    <tr>\n",
       "      <th>259</th>\n",
       "      <td>68.0</td>\n",
       "      <td>looking combine peak writing performance high-...</td>\n",
       "    </tr>\n",
       "    <tr>\n",
       "      <th>143</th>\n",
       "      <td>17.0</td>\n",
       "      <td>new entry-level full-sized faceted body grip m...</td>\n",
       "    </tr>\n",
       "  </tbody>\n",
       "</table>\n",
       "</div>"
      ],
      "text/plain": [
       "     Price                                  clean_description\n",
       "523  169.0  made sonoran sunset resin gold-plated clip two...\n",
       "518   90.0  graphic flamboyant collection feature pattern ...\n",
       "297  120.0  innovative line strong attitude unmistakably s...\n",
       "259   68.0  looking combine peak writing performance high-...\n",
       "143   17.0  new entry-level full-sized faceted body grip m..."
      ]
     },
     "execution_count": 22,
     "metadata": {},
     "output_type": "execute_result"
    }
   ],
   "source": [
    "model_A_df = pens_df[pens_df.clean_description.notnull()]\n",
    "model_A_df[[\"Price\",\"clean_description\"]].sample(5)"
   ]
  },
  {
   "cell_type": "markdown",
   "metadata": {},
   "source": [
    "### *Response Variable Choice 1*: continuous variable\n",
    "\n",
    "The price could explicitly give the intuition of how much the product worths."
   ]
  },
  {
   "cell_type": "code",
   "execution_count": 235,
   "metadata": {},
   "outputs": [],
   "source": [
    "y = model_A_df.Price"
   ]
  },
  {
   "cell_type": "markdown",
   "metadata": {},
   "source": [
    "### *Response Variable Choice 2*: discrete variable\n",
    "\n",
    "The price can be seperated as affordable and unaffordable sometimes, or more intutively with high and low price. That makes sense when we have limited budget.\n",
    "\n",
    "With domain knowledge, pen lovers always treat the $200 as the boundary between affordable and unaffordable pens."
   ]
  },
  {
   "cell_type": "code",
   "execution_count": 188,
   "metadata": {},
   "outputs": [],
   "source": [
    "y = np.where(model_A_df.Price < 200, 1, 0)"
   ]
  },
  {
   "cell_type": "markdown",
   "metadata": {},
   "source": [
    "### *Explanatory Variable Choice 1*: use the count of each word to build the feature vector\n",
    "\n",
    "All the stopwords and the feature words for each individual pen have been removed. The count of each word could implicate the importance of the text. "
   ]
  },
  {
   "cell_type": "code",
   "execution_count": 25,
   "metadata": {},
   "outputs": [],
   "source": [
    "clean_text = model_A_df.clean_description\n",
    "vectorizer = CountVectorizer(min_df=5)\n",
    "X = vectorizer.fit_transform(clean_text)"
   ]
  },
  {
   "cell_type": "markdown",
   "metadata": {},
   "source": [
    "### *Explanatory Variable Choice 2*: use the tfid features of each word to build the feature vector\n",
    "\n",
    "The importance of the words will increase while the frequency of words in each text increase. But the importance is also limited by the frequency of word in all the text together. This inverse document frequency method can avoid the penalty of same words occur in multiple texts.\n",
    "\n",
    "In this dataset, this could effectively lower the occur of technical words of product and concentrate more on the unique discription of each product."
   ]
  },
  {
   "cell_type": "code",
   "execution_count": 236,
   "metadata": {},
   "outputs": [],
   "source": [
    "clean_text = model_A_df.clean_description\n",
    "vectorizer = TfidfVectorizer(min_df=1)\n",
    "X = vectorizer.fit_transform(clean_text)"
   ]
  },
  {
   "cell_type": "markdown",
   "metadata": {},
   "source": [
    "### *Explanatory Variable Choice 3*: use PCA to reduce the dimension of the frequency count feature vector\n",
    "\n",
    "As the frequency count data feature could be highly correlated, we could use PCA to find the principle components and recompute the feature vector to get less correlated data. This is useful for further logistic regression analysis as the logitstic regression can't seperate the correlation of the different predictors as Lasso or Ridge."
   ]
  },
  {
   "cell_type": "code",
   "execution_count": 186,
   "metadata": {},
   "outputs": [
    {
     "name": "stdout",
     "output_type": "stream",
     "text": [
      "(653, 3449)\n",
      "(653, 86)\n"
     ]
    }
   ],
   "source": [
    "clean_text = model_A_df.clean_description\n",
    "vectorizer = CountVectorizer(min_df=1)\n",
    "X = vectorizer.fit_transform(clean_text)\n",
    "\n",
    "pca = PCA(n_components=0.9)\n",
    "X_pca = pca.fit_transform(X.toarray())\n",
    "print(X.shape)\n",
    "print(X_pca.shape)\n",
    "X = X_pca"
   ]
  },
  {
   "cell_type": "code",
   "execution_count": 28,
   "metadata": {},
   "outputs": [
    {
     "data": {
      "text/plain": [
       "<mpl_toolkits.mplot3d.art3d.Path3DCollection at 0x7fa3802bb198>"
      ]
     },
     "execution_count": 28,
     "metadata": {},
     "output_type": "execute_result"
    },
    {
     "data": {
      "image/png": "[encoded data removed]",
      "text/plain": [
       "<Figure size 432x288 with 1 Axes>"
      ]
     },
     "metadata": {
      "needs_background": "light"
     },
     "output_type": "display_data"
    }
   ],
   "source": [
    "## Try projection with 3D PCA\n",
    "clean_text = model_A_df.clean_description\n",
    "vectorizer = CountVectorizer(min_df=5)\n",
    "X = vectorizer.fit_transform(clean_text)\n",
    "\n",
    "pca = PCA(n_components=3)\n",
    "X_pca = pca.fit_transform(X.toarray())\n",
    "\n",
    "fig = plt.figure()\n",
    "ax = Axes3D(fig)\n",
    "ax.scatter(X_pca[:,0], X_pca[:,1],X_pca[:,2], c=y)"
   ]
  },
  {
   "cell_type": "markdown",
   "metadata": {},
   "source": [
    "Both the 3D and 2D projection can not seperate the categorical response. Higher dimension is required."
   ]
  },
  {
   "cell_type": "markdown",
   "metadata": {},
   "source": [
    "### Split the data\n",
    "\n",
    "To use train-validate-test validation could cost lots of data in the validate data and test data. The dataset is quite a small dataset. So it's more reasonable to use cross validation method to reuse the data many times to get more information and more precise result."
   ]
  },
  {
   "cell_type": "code",
   "execution_count": 237,
   "metadata": {},
   "outputs": [],
   "source": [
    "train_X, test_X, train_y, test_y = train_test_split(X,y,test_size=0.2,random_state=1)\n",
    "# val_X, test_X, val_y, test_y = train_test_split(test_X,test_y,test_size=0.5,random_state=1)\n",
    "# train_X.shape, val_X.shape, test_X.shape"
   ]
  },
  {
   "cell_type": "markdown",
   "metadata": {},
   "source": [
    "### *Model Fitting Choice 1*: Ridge cross validation model\n",
    "\n",
    "I ignored the exploration of the linear regression model, because its obvious that, in text data, there is some relation between the words. There should be some pattern such that some words always come after the certain other word. In the transformed feature vector of each text, this behaves as highly coefficients amount the different feature words predictors. So the variable of each predictor could very among different random states and also cause model overfitting.\n",
    "\n",
    "So, for the continuous response, I choose the Ridge model to add penalty to the coefficient, suppress the co-linearity and get a better prediction."
   ]
  },
  {
   "cell_type": "code",
   "execution_count": 238,
   "metadata": {},
   "outputs": [
    {
     "name": "stderr",
     "output_type": "stream",
     "text": [
      "/mnt/c/Users/51606/Desktop/Denver/course/2019SP_data_science_tools/lib/python3.6/site-packages/sklearn/model_selection/_search.py:841: DeprecationWarning: The default of the `iid` parameter will change from True to False in version 0.22 and will be removed in 0.24. This will change numeric results when test-set sizes are unequal.\n",
      "  DeprecationWarning)\n"
     ]
    },
    {
     "data": {
      "text/plain": [
       "0.8579843712600262"
      ]
     },
     "execution_count": 238,
     "metadata": {},
     "output_type": "execute_result"
    }
   ],
   "source": [
    "ridge_reg = RidgeCV(cv=5,alphas=np.linspace(0.001,50,1000))\n",
    "ridge_reg.fit(train_X,train_y)\n",
    "ridge_reg.score(test_X,test_y)"
   ]
  },
  {
   "cell_type": "markdown",
   "metadata": {},
   "source": [
    "### *Model Fitting Choice 2*: Lasso cross validation model\n",
    "\n",
    "Different from the Ridge regression, Lasso uses l2 penalty(sum of squares) rather than l1 penalty(absolute value). So Lasso could compute zero coefficient. This property gives it the function to do predictors selection and slove model overfitting.\n",
    "\n",
    "To check for model overfitting and reduce its effect, the Lasso regression should be applied."
   ]
  },
  {
   "cell_type": "code",
   "execution_count": 239,
   "metadata": {
    "scrolled": true
   },
   "outputs": [
    {
     "data": {
      "text/plain": [
       "0.8083320216520071"
      ]
     },
     "execution_count": 239,
     "metadata": {},
     "output_type": "execute_result"
    }
   ],
   "source": [
    "lasso_reg = LassoCV(cv=5,alphas=np.linspace(0.001,50,1000))\n",
    "lasso_reg.fit(train_X,train_y)\n",
    "lasso_reg.score(test_X,test_y)"
   ]
  },
  {
   "cell_type": "markdown",
   "metadata": {},
   "source": [
    "### *Model Fitting Choice 3*: Logistic regression cross validation model\n",
    "\n",
    "If the response variable is a two-level categorical variable. Logistic regression is applied.\n",
    "\n",
    "**Parameter setting**\n",
    "\n",
    "- The C is set to be choosen from 1000 values between 1e-4 and 1e4 by grid search.\n",
    "- The number of products is far smaller than the number of features, so the dual formulation should be implemented to avoid the lower explanatory functionality of each features. Under this condition, only the \"liblinear\" solver and ridge penalty could be choosen."
   ]
  },
  {
   "cell_type": "code",
   "execution_count": 20,
   "metadata": {
    "scrolled": true
   },
   "outputs": [
    {
     "name": "stderr",
     "output_type": "stream",
     "text": [
      "/mnt/c/Users/51606/Desktop/Denver/course/2019SP_data_science_tools/lib/python3.6/site-packages/sklearn/svm/base.py:931: ConvergenceWarning: Liblinear failed to converge, increase the number of iterations.\n",
      "  \"the number of iterations.\", ConvergenceWarning)\n"
     ]
    },
    {
     "name": "stdout",
     "output_type": "stream",
     "text": [
      "0.9694656488549618\n",
      "              precision    recall  f1-score   support\n",
      "\n",
      "   low_price       0.96      0.89      0.93        28\n",
      "  high_price       0.97      0.99      0.98       103\n",
      "\n",
      "   micro avg       0.97      0.97      0.97       131\n",
      "   macro avg       0.97      0.94      0.95       131\n",
      "weighted avg       0.97      0.97      0.97       131\n",
      "\n"
     ]
    }
   ],
   "source": [
    "logistic_reg = LogisticRegressionCV(Cs=1000,cv=5,dual=True,penalty=\"l2\",solver=\"liblinear\",max_iter=1000)\n",
    "logistic_reg.fit(train_X,train_y)\n",
    "print(logistic_reg.score(test_X,test_y))\n",
    "predict_y = logistic_reg.predict(test_X)\n",
    "print(classification_report(test_y,predict_y,target_names=[\"low_price\",\"high_price\"]))"
   ]
  },
  {
   "cell_type": "markdown",
   "metadata": {},
   "source": [
    "### *Model Fitting Choice 3*: Logistic regression cross validation model with PCA components\n",
    "\n",
    "Logistic regression can't handle the correlation between the different components. So using PCA to get principle component should get a better result.\n",
    "\n",
    "**Parameter setting**\n",
    "\n",
    "- The C is set to be choosen from 1000 values between 1e-4 and 1e4 by grid search.\n",
    "- The number of products is greater enough than the number of features under PCA. So we do not need to use the dual choice.\n",
    "- The Lasso regression is been implemented with the \"saga\" solver and \"l1\" penalty."
   ]
  },
  {
   "cell_type": "code",
   "execution_count": 190,
   "metadata": {},
   "outputs": [
    {
     "name": "stdout",
     "output_type": "stream",
     "text": [
      "0.9694656488549618\n",
      "              precision    recall  f1-score   support\n",
      "\n",
      "   low_price       0.90      0.96      0.93        28\n",
      "  high_price       0.99      0.97      0.98       103\n",
      "\n",
      "   micro avg       0.97      0.97      0.97       131\n",
      "   macro avg       0.95      0.97      0.96       131\n",
      "weighted avg       0.97      0.97      0.97       131\n",
      "\n"
     ]
    },
    {
     "name": "stderr",
     "output_type": "stream",
     "text": [
      "/mnt/c/Users/51606/Desktop/Denver/course/2019SP_data_science_tools/lib/python3.6/site-packages/sklearn/linear_model/sag.py:334: ConvergenceWarning: The max_iter was reached which means the coef_ did not converge\n",
      "  \"the coef_ did not converge\", ConvergenceWarning)\n"
     ]
    }
   ],
   "source": [
    "logistic_reg = LogisticRegressionCV(Cs = 1000,cv=5,max_iter=1000,penalty=\"l1\",solver=\"saga\")\n",
    "logistic_reg.fit(train_X,train_y)\n",
    "print(logistic_reg.score(test_X,test_y))\n",
    "predict_y = logistic_reg.predict(test_X)\n",
    "print(classification_report(test_y,predict_y,target_names=[\"low_price\",\"high_price\"]))"
   ]
  },
  {
   "cell_type": "markdown",
   "metadata": {},
   "source": [
    "### Model selection and model application"
   ]
  },
  {
   "cell_type": "code",
   "execution_count": 229,
   "metadata": {
    "scrolled": false
   },
   "outputs": [
    {
     "name": "stdout",
     "output_type": "stream",
     "text": [
      "\r\n",
      "                                    This Namiki maki-e fountain pen was created by maki-e artisan Seiki in Japan. It features the Togidashi Maki-e technique (burnished maki-e), depicting waves and a plover (a type of sea bird). The pen has an 18kt gold nib (#10), fills via cartridge/converter (a CON-70 is included), and comes packaged in a wooden box with a bottle of ink.The Yukari Collection vividly expresses the nature of the four seasons, which the Japanese have been familiar with since ancient times, by combining designs with various techniques such as Togidashi-Taka Maki-e (Burnished-Raised Maki-e) and Raden (Mother-of-Pearl). While being a size that can be carried and used every day, it harbors Japanese beauty down to the finest detail.As these pens are truly one-of-a-kind pieces of art, they are warrantied for life by Namiki.\r\n",
      "                                    \r\n",
      "                                \r\n",
      "\t\t\t\t\t\t\t\t\t\t\t\t\t\t\t\t\t\t\t\t\r\n",
      "\t\t\t\t\t\t\t\t\t\t\t\t\t\t\t\t\t\t\t\n"
     ]
    },
    {
     "data": {
      "text/plain": [
       "<matplotlib.image.AxesImage at 0x7fa37fc59710>"
      ]
     },
     "execution_count": 229,
     "metadata": {},
     "output_type": "execute_result"
    },
    {
     "data": {
      "image/png": "[encoded data removed]",
      "text/plain": [
       "<Figure size 432x288 with 1 Axes>"
      ]
     },
     "metadata": {
      "needs_background": "light"
     },
     "output_type": "display_data"
    }
   ],
   "source": [
    "idx = np.random.randint(0,model_A_df.shape[0]-1)\n",
    "info = model_A_df.loc[idx][[\"Price\",\"description\",\"featured_image\"]]\n",
    "print(info[1])\n",
    "\n",
    "response = requests.get(\"http:\"+info[2])\n",
    "img = Image.open(BytesIO(response.content))\n",
    "plt.imshow(img)"
   ]
  },
  {
   "cell_type": "code",
   "execution_count": 232,
   "metadata": {
    "collapsed": true
   },
   "outputs": [
    {
     "ename": "ValueError",
     "evalue": "Expected 2D array, got 1D array instead:\narray=[-1.84092043e+00 -2.74914815e+00 -4.76951296e+00  4.80151748e+00\n -3.65581911e+00  1.79212358e+00  1.18638613e+00  2.49820368e-01\n  1.11422876e+00 -2.61465952e-01  9.11049691e-01 -7.49042285e-01\n  6.38643218e-01  4.11401758e-01 -1.24172613e-01 -4.99258439e-02\n  6.67969311e-02  8.21916633e-01 -5.32485159e-01 -1.83852039e-01\n  5.39771133e-01 -3.42062510e-01  2.41289430e-01  8.29797706e-01\n  1.11488518e+00 -9.82026664e-01  6.34364997e-01  3.35426139e-02\n -5.23777305e-01 -5.63260161e-02  1.79553954e+00  1.35985153e+00\n -3.15252187e-01 -1.93424223e+00 -1.64760347e+00 -5.63919410e-01\n  3.06330321e-01 -3.83517373e-01  8.59973584e-01 -4.68931821e-01\n -1.35508366e+00  2.07142602e-02  2.33690276e-01 -1.51073854e-01\n -3.63024986e-01 -5.21735715e-01 -5.02066827e-01  1.09007215e+00\n  2.37993053e-01 -2.86113276e-01 -6.12924185e-01 -1.86058839e-01\n  8.32709372e-02 -8.01944041e-02 -2.14655872e-01 -1.62161689e-01\n -4.77580266e-01 -3.56509905e-01 -7.37790677e-02 -1.41246077e-01\n -4.82755466e-01  7.38302770e-02  5.86459377e-02 -6.55601513e-01\n -6.55435271e-01  1.39973384e-01 -5.40871589e-01 -2.37136384e-01\n -1.05356279e+00  7.39959616e-01 -1.28910452e+00 -3.22883940e-03\n -5.66697124e-01 -1.64132458e-01  4.85083901e-01  6.80978967e-01\n  5.31091614e-01  3.12477908e-01 -2.10822604e-01 -8.30465559e-01\n -4.50355672e-01 -1.22649027e-01  4.40159652e-01 -4.95399521e-01\n -3.66417826e-01  7.31936912e-02].\nReshape your data either using array.reshape(-1, 1) if your data has a single feature or array.reshape(1, -1) if it contains a single sample.",
     "output_type": "error",
     "traceback": [
      "\u001b[0;31m---------------------------------------------------------------------------\u001b[0m",
      "\u001b[0;31mValueError\u001b[0m                                Traceback (most recent call last)",
      "\u001b[0;32m<ipython-input-232-eb7084784112>\u001b[0m in \u001b[0;36m<module>\u001b[0;34m\u001b[0m\n\u001b[0;32m----> 1\u001b[0;31m \u001b[0mpred_price\u001b[0m \u001b[0;34m=\u001b[0m \u001b[0mlasso_reg\u001b[0m\u001b[0;34m.\u001b[0m\u001b[0mpredict\u001b[0m\u001b[0;34m(\u001b[0m\u001b[0mX\u001b[0m\u001b[0;34m[\u001b[0m\u001b[0midx\u001b[0m\u001b[0;34m,\u001b[0m\u001b[0;34m]\u001b[0m\u001b[0;34m)\u001b[0m\u001b[0;34m[\u001b[0m\u001b[0;36m0\u001b[0m\u001b[0;34m]\u001b[0m\u001b[0;34m\u001b[0m\u001b[0;34m\u001b[0m\u001b[0m\n\u001b[0m\u001b[1;32m      2\u001b[0m \u001b[0;34m\u001b[0m\u001b[0m\n\u001b[1;32m      3\u001b[0m \u001b[0mprint\u001b[0m\u001b[0;34m(\u001b[0m\u001b[0;34m\"the predicted price is ${}\"\u001b[0m\u001b[0;34m.\u001b[0m\u001b[0mformat\u001b[0m\u001b[0;34m(\u001b[0m\u001b[0mpred_price\u001b[0m\u001b[0;34m)\u001b[0m\u001b[0;34m)\u001b[0m\u001b[0;34m\u001b[0m\u001b[0;34m\u001b[0m\u001b[0m\n\u001b[1;32m      4\u001b[0m \u001b[0mprint\u001b[0m\u001b[0;34m(\u001b[0m\u001b[0;34m\"The actual price is ${}\"\u001b[0m\u001b[0;34m.\u001b[0m\u001b[0mformat\u001b[0m\u001b[0;34m(\u001b[0m\u001b[0minfo\u001b[0m\u001b[0;34m[\u001b[0m\u001b[0;36m0\u001b[0m\u001b[0;34m]\u001b[0m\u001b[0;34m)\u001b[0m\u001b[0;34m)\u001b[0m\u001b[0;34m\u001b[0m\u001b[0;34m\u001b[0m\u001b[0m\n",
      "\u001b[0;32m/mnt/c/Users/51606/Desktop/Denver/course/2019SP_data_science_tools/lib/python3.6/site-packages/sklearn/linear_model/base.py\u001b[0m in \u001b[0;36mpredict\u001b[0;34m(self, X)\u001b[0m\n\u001b[1;32m    211\u001b[0m             \u001b[0mReturns\u001b[0m \u001b[0mpredicted\u001b[0m \u001b[0mvalues\u001b[0m\u001b[0;34m.\u001b[0m\u001b[0;34m\u001b[0m\u001b[0;34m\u001b[0m\u001b[0m\n\u001b[1;32m    212\u001b[0m         \"\"\"\n\u001b[0;32m--> 213\u001b[0;31m         \u001b[0;32mreturn\u001b[0m \u001b[0mself\u001b[0m\u001b[0;34m.\u001b[0m\u001b[0m_decision_function\u001b[0m\u001b[0;34m(\u001b[0m\u001b[0mX\u001b[0m\u001b[0;34m)\u001b[0m\u001b[0;34m\u001b[0m\u001b[0;34m\u001b[0m\u001b[0m\n\u001b[0m\u001b[1;32m    214\u001b[0m \u001b[0;34m\u001b[0m\u001b[0m\n\u001b[1;32m    215\u001b[0m     \u001b[0m_preprocess_data\u001b[0m \u001b[0;34m=\u001b[0m \u001b[0mstaticmethod\u001b[0m\u001b[0;34m(\u001b[0m\u001b[0m_preprocess_data\u001b[0m\u001b[0;34m)\u001b[0m\u001b[0;34m\u001b[0m\u001b[0;34m\u001b[0m\u001b[0m\n",
      "\u001b[0;32m/mnt/c/Users/51606/Desktop/Denver/course/2019SP_data_science_tools/lib/python3.6/site-packages/sklearn/linear_model/base.py\u001b[0m in \u001b[0;36m_decision_function\u001b[0;34m(self, X)\u001b[0m\n\u001b[1;32m    194\u001b[0m         \u001b[0mcheck_is_fitted\u001b[0m\u001b[0;34m(\u001b[0m\u001b[0mself\u001b[0m\u001b[0;34m,\u001b[0m \u001b[0;34m\"coef_\"\u001b[0m\u001b[0;34m)\u001b[0m\u001b[0;34m\u001b[0m\u001b[0;34m\u001b[0m\u001b[0m\n\u001b[1;32m    195\u001b[0m \u001b[0;34m\u001b[0m\u001b[0m\n\u001b[0;32m--> 196\u001b[0;31m         \u001b[0mX\u001b[0m \u001b[0;34m=\u001b[0m \u001b[0mcheck_array\u001b[0m\u001b[0;34m(\u001b[0m\u001b[0mX\u001b[0m\u001b[0;34m,\u001b[0m \u001b[0maccept_sparse\u001b[0m\u001b[0;34m=\u001b[0m\u001b[0;34m[\u001b[0m\u001b[0;34m'csr'\u001b[0m\u001b[0;34m,\u001b[0m \u001b[0;34m'csc'\u001b[0m\u001b[0;34m,\u001b[0m \u001b[0;34m'coo'\u001b[0m\u001b[0;34m]\u001b[0m\u001b[0;34m)\u001b[0m\u001b[0;34m\u001b[0m\u001b[0;34m\u001b[0m\u001b[0m\n\u001b[0m\u001b[1;32m    197\u001b[0m         return safe_sparse_dot(X, self.coef_.T,\n\u001b[1;32m    198\u001b[0m                                dense_output=True) + self.intercept_\n",
      "\u001b[0;32m/mnt/c/Users/51606/Desktop/Denver/course/2019SP_data_science_tools/lib/python3.6/site-packages/sklearn/utils/validation.py\u001b[0m in \u001b[0;36mcheck_array\u001b[0;34m(array, accept_sparse, accept_large_sparse, dtype, order, copy, force_all_finite, ensure_2d, allow_nd, ensure_min_samples, ensure_min_features, warn_on_dtype, estimator)\u001b[0m\n\u001b[1;32m    550\u001b[0m                     \u001b[0;34m\"Reshape your data either using array.reshape(-1, 1) if \"\u001b[0m\u001b[0;34m\u001b[0m\u001b[0;34m\u001b[0m\u001b[0m\n\u001b[1;32m    551\u001b[0m                     \u001b[0;34m\"your data has a single feature or array.reshape(1, -1) \"\u001b[0m\u001b[0;34m\u001b[0m\u001b[0;34m\u001b[0m\u001b[0m\n\u001b[0;32m--> 552\u001b[0;31m                     \"if it contains a single sample.\".format(array))\n\u001b[0m\u001b[1;32m    553\u001b[0m \u001b[0;34m\u001b[0m\u001b[0m\n\u001b[1;32m    554\u001b[0m         \u001b[0;31m# in the future np.flexible dtypes will be handled like object dtypes\u001b[0m\u001b[0;34m\u001b[0m\u001b[0;34m\u001b[0m\u001b[0;34m\u001b[0m\u001b[0m\n",
      "\u001b[0;31mValueError\u001b[0m: Expected 2D array, got 1D array instead:\narray=[-1.84092043e+00 -2.74914815e+00 -4.76951296e+00  4.80151748e+00\n -3.65581911e+00  1.79212358e+00  1.18638613e+00  2.49820368e-01\n  1.11422876e+00 -2.61465952e-01  9.11049691e-01 -7.49042285e-01\n  6.38643218e-01  4.11401758e-01 -1.24172613e-01 -4.99258439e-02\n  6.67969311e-02  8.21916633e-01 -5.32485159e-01 -1.83852039e-01\n  5.39771133e-01 -3.42062510e-01  2.41289430e-01  8.29797706e-01\n  1.11488518e+00 -9.82026664e-01  6.34364997e-01  3.35426139e-02\n -5.23777305e-01 -5.63260161e-02  1.79553954e+00  1.35985153e+00\n -3.15252187e-01 -1.93424223e+00 -1.64760347e+00 -5.63919410e-01\n  3.06330321e-01 -3.83517373e-01  8.59973584e-01 -4.68931821e-01\n -1.35508366e+00  2.07142602e-02  2.33690276e-01 -1.51073854e-01\n -3.63024986e-01 -5.21735715e-01 -5.02066827e-01  1.09007215e+00\n  2.37993053e-01 -2.86113276e-01 -6.12924185e-01 -1.86058839e-01\n  8.32709372e-02 -8.01944041e-02 -2.14655872e-01 -1.62161689e-01\n -4.77580266e-01 -3.56509905e-01 -7.37790677e-02 -1.41246077e-01\n -4.82755466e-01  7.38302770e-02  5.86459377e-02 -6.55601513e-01\n -6.55435271e-01  1.39973384e-01 -5.40871589e-01 -2.37136384e-01\n -1.05356279e+00  7.39959616e-01 -1.28910452e+00 -3.22883940e-03\n -5.66697124e-01 -1.64132458e-01  4.85083901e-01  6.80978967e-01\n  5.31091614e-01  3.12477908e-01 -2.10822604e-01 -8.30465559e-01\n -4.50355672e-01 -1.22649027e-01  4.40159652e-01 -4.95399521e-01\n -3.66417826e-01  7.31936912e-02].\nReshape your data either using array.reshape(-1, 1) if your data has a single feature or array.reshape(1, -1) if it contains a single sample."
     ]
    }
   ],
   "source": [
    "pred_price = lasso_reg.predict(X[idx,])[0]\n",
    "\n",
    "print(\"the predicted price is ${}\".format(pred_price))\n",
    "print(\"The actual price is ${}\".format(info[0]))"
   ]
  },
  {
   "cell_type": "code",
   "execution_count": 231,
   "metadata": {},
   "outputs": [
    {
     "name": "stdout",
     "output_type": "stream",
     "text": [
      "the predicted label is high price\n",
      "The true label is high price\n"
     ]
    }
   ],
   "source": [
    "pred_label = \"low price\" if logistic_reg.predict([X[idx,]])[0] == 1 else \"high price\"\n",
    "true_label = \"low price\" if info[0] < 200 else \"high price\"\n",
    "print(\"the predicted label is {}\".format(pred_label))\n",
    "print(\"The true label is {}\".format(true_label))"
   ]
  }
 ],
 "metadata": {
  "kernelspec": {
   "display_name": "Python 3",
   "language": "python",
   "name": "python3"
  },
  "language_info": {
   "codemirror_mode": {
    "name": "ipython",
    "version": 3
   },
   "file_extension": ".py",
   "mimetype": "text/x-python",
   "name": "python",
   "nbconvert_exporter": "python",
   "pygments_lexer": "ipython3",
   "version": "3.6.7"
  }
 },
 "nbformat": 4,
 "nbformat_minor": 2
}
