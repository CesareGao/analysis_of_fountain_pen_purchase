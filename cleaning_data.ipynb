{
 "cells": [
  {
   "cell_type": "markdown",
   "metadata": {},
   "source": [
    "# Cleaning Data"
   ]
  },
  {
   "cell_type": "code",
   "execution_count": 1,
   "metadata": {},
   "outputs": [],
   "source": [
    "import pandas as pd\n",
    "import numpy as np\n",
    "import re"
   ]
  },
  {
   "cell_type": "markdown",
   "metadata": {},
   "source": [
    "## Load data"
   ]
  },
  {
   "cell_type": "code",
   "execution_count": 62,
   "metadata": {},
   "outputs": [
    {
     "data": {
      "text/html": [
       "<div>\n",
       "<style scoped>\n",
       "    .dataframe tbody tr th:only-of-type {\n",
       "        vertical-align: middle;\n",
       "    }\n",
       "\n",
       "    .dataframe tbody tr th {\n",
       "        vertical-align: top;\n",
       "    }\n",
       "\n",
       "    .dataframe thead th {\n",
       "        text-align: right;\n",
       "    }\n",
       "</style>\n",
       "<table border=\"1\" class=\"dataframe\">\n",
       "  <thead>\n",
       "    <tr style=\"text-align: right;\">\n",
       "      <th></th>\n",
       "      <th>url</th>\n",
       "      <th>Product_Code</th>\n",
       "      <th>Name</th>\n",
       "      <th>In_Stock</th>\n",
       "      <th>Price</th>\n",
       "      <th>Nib_Size</th>\n",
       "      <th>Condition</th>\n",
       "      <th>Brand</th>\n",
       "      <th>Type</th>\n",
       "      <th>Color</th>\n",
       "      <th>...</th>\n",
       "      <th>price</th>\n",
       "      <th>price_max</th>\n",
       "      <th>price_min</th>\n",
       "      <th>price_varies</th>\n",
       "      <th>published_at</th>\n",
       "      <th>tags</th>\n",
       "      <th>title</th>\n",
       "      <th>type</th>\n",
       "      <th>variants</th>\n",
       "      <th>vendor</th>\n",
       "    </tr>\n",
       "  </thead>\n",
       "  <tbody>\n",
       "    <tr>\n",
       "      <th>0</th>\n",
       "      <td>https://www.gouletpens.com/collections/all-fou...</td>\n",
       "      <td>Plat-PSQ-400-01-1</td>\n",
       "      <td>Platinum Preppy Fountain Pen - Black</td>\n",
       "      <td>True</td>\n",
       "      <td>$5.00</td>\n",
       "      <td>Extra-Fine, Fine, Medium</td>\n",
       "      <td>New</td>\n",
       "      <td>Platinum</td>\n",
       "      <td>Fountain Pens</td>\n",
       "      <td>Black</td>\n",
       "      <td>...</td>\n",
       "      <td>450.0</td>\n",
       "      <td>500.0</td>\n",
       "      <td>450.0</td>\n",
       "      <td>True</td>\n",
       "      <td>2018-01-01T11:00:00-05:00</td>\n",
       "      <td>['Availability:Usually Ships in 1 to 2 Busines...</td>\n",
       "      <td>Platinum Preppy Fountain Pen - Black</td>\n",
       "      <td>Fountain Pens</td>\n",
       "      <td>[{'id': 11884877971499, 'title': 'Extra-Fine',...</td>\n",
       "      <td>Platinum</td>\n",
       "    </tr>\n",
       "    <tr>\n",
       "      <th>1</th>\n",
       "      <td>https://www.gouletpens.com/collections/all-fou...</td>\n",
       "      <td>PN91111</td>\n",
       "      <td>Pilot Metropolitan Fountain Pen - Black Plain</td>\n",
       "      <td>True</td>\n",
       "      <td>$23.99</td>\n",
       "      <td>Fine, Medium, 1.0mm Stub</td>\n",
       "      <td>New</td>\n",
       "      <td>Pilot</td>\n",
       "      <td>Fountain Pens</td>\n",
       "      <td>Black</td>\n",
       "      <td>...</td>\n",
       "      <td>2399.0</td>\n",
       "      <td>2399.0</td>\n",
       "      <td>2399.0</td>\n",
       "      <td>False</td>\n",
       "      <td>2018-01-01T11:00:00-05:00</td>\n",
       "      <td>['Availability:Usually Ships in 1 to 2 Busines...</td>\n",
       "      <td>Pilot Metropolitan Fountain Pen - Black Plain</td>\n",
       "      <td>Fountain Pens</td>\n",
       "      <td>[{'id': 11884884426795, 'title': 'Fine', 'opti...</td>\n",
       "      <td>Pilot</td>\n",
       "    </tr>\n",
       "    <tr>\n",
       "      <th>2</th>\n",
       "      <td>https://www.gouletpens.com/collections/all-fou...</td>\n",
       "      <td>TW-M7445300</td>\n",
       "      <td>TWSBI ECO Fountain Pen - Clear</td>\n",
       "      <td>True</td>\n",
       "      <td>$28.99</td>\n",
       "      <td>Extra-Fine, Fine, Medium, Broad, 1.1mm Stub</td>\n",
       "      <td>New</td>\n",
       "      <td>TWSBI</td>\n",
       "      <td>Fountain Pens</td>\n",
       "      <td>Clear</td>\n",
       "      <td>...</td>\n",
       "      <td>2899.0</td>\n",
       "      <td>2899.0</td>\n",
       "      <td>2899.0</td>\n",
       "      <td>False</td>\n",
       "      <td>2018-01-01T11:00:00-05:00</td>\n",
       "      <td>['Availability:Usually Ships in 1 to 2 Busines...</td>\n",
       "      <td>TWSBI ECO Fountain Pen - Clear</td>\n",
       "      <td>Fountain Pens</td>\n",
       "      <td>[{'id': 11884892717099, 'title': 'Extra-Fine',...</td>\n",
       "      <td>TWSBI</td>\n",
       "    </tr>\n",
       "    <tr>\n",
       "      <th>3</th>\n",
       "      <td>https://www.gouletpens.com/collections/all-fou...</td>\n",
       "      <td>N15021</td>\n",
       "      <td>Noodler's Ahab Flex Fountain Pen - Clear</td>\n",
       "      <td>True</td>\n",
       "      <td>$23.00</td>\n",
       "      <td>Flex</td>\n",
       "      <td>New</td>\n",
       "      <td>Noodler's</td>\n",
       "      <td>Fountain Pens</td>\n",
       "      <td>Clear</td>\n",
       "      <td>...</td>\n",
       "      <td>2300.0</td>\n",
       "      <td>2300.0</td>\n",
       "      <td>2300.0</td>\n",
       "      <td>False</td>\n",
       "      <td>2018-01-01T11:00:00-05:00</td>\n",
       "      <td>['Availability:Usually Ships in 1 to 2 Busines...</td>\n",
       "      <td>Noodler's Ahab Flex Fountain Pen - Clear</td>\n",
       "      <td>Fountain Pens</td>\n",
       "      <td>[{'id': 11884728909867, 'title': 'Default Titl...</td>\n",
       "      <td>Noodler's</td>\n",
       "    </tr>\n",
       "    <tr>\n",
       "      <th>4</th>\n",
       "      <td>https://www.gouletpens.com/collections/all-fou...</td>\n",
       "      <td>Plat-PSQ-400-03-1</td>\n",
       "      <td>Platinum Preppy Fountain Pen - Blue</td>\n",
       "      <td>True</td>\n",
       "      <td>$4.98</td>\n",
       "      <td>Extra-Fine, Fine, Medium</td>\n",
       "      <td>New</td>\n",
       "      <td>Platinum</td>\n",
       "      <td>Fountain Pens</td>\n",
       "      <td>Blue</td>\n",
       "      <td>...</td>\n",
       "      <td>450.0</td>\n",
       "      <td>498.0</td>\n",
       "      <td>450.0</td>\n",
       "      <td>True</td>\n",
       "      <td>2018-01-01T11:00:00-05:00</td>\n",
       "      <td>['Availability:Usually Ships in 1 to 2 Busines...</td>\n",
       "      <td>Platinum Preppy Fountain Pen - Blue</td>\n",
       "      <td>Fountain Pens</td>\n",
       "      <td>[{'id': 11884879085611, 'title': 'Extra-Fine',...</td>\n",
       "      <td>Platinum</td>\n",
       "    </tr>\n",
       "  </tbody>\n",
       "</table>\n",
       "<p>5 rows × 61 columns</p>\n",
       "</div>"
      ],
      "text/plain": [
       "                                                 url       Product_Code  \\\n",
       "0  https://www.gouletpens.com/collections/all-fou...  Plat-PSQ-400-01-1   \n",
       "1  https://www.gouletpens.com/collections/all-fou...            PN91111   \n",
       "2  https://www.gouletpens.com/collections/all-fou...        TW-M7445300   \n",
       "3  https://www.gouletpens.com/collections/all-fou...             N15021   \n",
       "4  https://www.gouletpens.com/collections/all-fou...  Plat-PSQ-400-03-1   \n",
       "\n",
       "                                            Name  In_Stock   Price  \\\n",
       "0           Platinum Preppy Fountain Pen - Black      True   $5.00   \n",
       "1  Pilot Metropolitan Fountain Pen - Black Plain      True  $23.99   \n",
       "2                 TWSBI ECO Fountain Pen - Clear      True  $28.99   \n",
       "3       Noodler's Ahab Flex Fountain Pen - Clear      True  $23.00   \n",
       "4            Platinum Preppy Fountain Pen - Blue      True   $4.98   \n",
       "\n",
       "                                      Nib_Size Condition      Brand  \\\n",
       "0                     Extra-Fine, Fine, Medium       New   Platinum   \n",
       "1                     Fine, Medium, 1.0mm Stub       New      Pilot   \n",
       "2  Extra-Fine, Fine, Medium, Broad, 1.1mm Stub       New      TWSBI   \n",
       "3                                         Flex       New  Noodler's   \n",
       "4                     Extra-Fine, Fine, Medium       New   Platinum   \n",
       "\n",
       "            Type  Color  ...   price price_max price_min price_varies  \\\n",
       "0  Fountain Pens  Black  ...   450.0     500.0     450.0         True   \n",
       "1  Fountain Pens  Black  ...  2399.0    2399.0    2399.0        False   \n",
       "2  Fountain Pens  Clear  ...  2899.0    2899.0    2899.0        False   \n",
       "3  Fountain Pens  Clear  ...  2300.0    2300.0    2300.0        False   \n",
       "4  Fountain Pens   Blue  ...   450.0     498.0     450.0         True   \n",
       "\n",
       "                published_at  \\\n",
       "0  2018-01-01T11:00:00-05:00   \n",
       "1  2018-01-01T11:00:00-05:00   \n",
       "2  2018-01-01T11:00:00-05:00   \n",
       "3  2018-01-01T11:00:00-05:00   \n",
       "4  2018-01-01T11:00:00-05:00   \n",
       "\n",
       "                                                tags  \\\n",
       "0  ['Availability:Usually Ships in 1 to 2 Busines...   \n",
       "1  ['Availability:Usually Ships in 1 to 2 Busines...   \n",
       "2  ['Availability:Usually Ships in 1 to 2 Busines...   \n",
       "3  ['Availability:Usually Ships in 1 to 2 Busines...   \n",
       "4  ['Availability:Usually Ships in 1 to 2 Busines...   \n",
       "\n",
       "                                           title           type  \\\n",
       "0           Platinum Preppy Fountain Pen - Black  Fountain Pens   \n",
       "1  Pilot Metropolitan Fountain Pen - Black Plain  Fountain Pens   \n",
       "2                 TWSBI ECO Fountain Pen - Clear  Fountain Pens   \n",
       "3       Noodler's Ahab Flex Fountain Pen - Clear  Fountain Pens   \n",
       "4            Platinum Preppy Fountain Pen - Blue  Fountain Pens   \n",
       "\n",
       "                                            variants     vendor  \n",
       "0  [{'id': 11884877971499, 'title': 'Extra-Fine',...   Platinum  \n",
       "1  [{'id': 11884884426795, 'title': 'Fine', 'opti...      Pilot  \n",
       "2  [{'id': 11884892717099, 'title': 'Extra-Fine',...      TWSBI  \n",
       "3  [{'id': 11884728909867, 'title': 'Default Titl...  Noodler's  \n",
       "4  [{'id': 11884879085611, 'title': 'Extra-Fine',...   Platinum  \n",
       "\n",
       "[5 rows x 61 columns]"
      ]
     },
     "execution_count": 62,
     "metadata": {},
     "output_type": "execute_result"
    }
   ],
   "source": [
    "pens_df = pd.read_csv(\"fountain_pen_dataset.csv\").drop([\"Unnamed: 0\"],axis=1)\n",
    "# pens_df.reset_index(inplace=True)\n",
    "# pens_df.set_index(\"index\",inplace=True)\n",
    "pens_df.head()"
   ]
  },
  {
   "cell_type": "code",
   "execution_count": 63,
   "metadata": {
    "scrolled": true
   },
   "outputs": [
    {
     "data": {
      "text/plain": [
       "Index(['url', 'Product_Code', 'Name', 'In_Stock', 'Price', 'Nib_Size',\n",
       "       'Condition', 'Brand', 'Type', 'Color', 'Demonstrator', 'Body_Material',\n",
       "       'Cap_Type', 'Compatible_inks_&_refills', 'Filling_Mechanism',\n",
       "       'Grip_Material', 'Nib_Color', 'Nib_Material', 'Postable', 'Retractable',\n",
       "       'Trim', 'Diameter_Body', 'Diameter_Cap_(without_clip)',\n",
       "       'Diameter_Cap_(with_clip)', 'Diameter_Grip', 'Length_Body',\n",
       "       'Length_Cap', 'Length_Nib', 'Length_Overall_(Closed)',\n",
       "       'Length_Overall_(Posted)', 'Weight_Body', 'Weight_Cap',\n",
       "       'Weight_Overall', 'Max_Ink_Capacity_Piston_Vac',\n",
       "       'Max_Ink_Capacity_Cartridge', 'Max_Ink_Capacity_Converter',\n",
       "       'Max_Ink_Capacity_Eyedropper', 'Cap_Rotations', 'available',\n",
       "       'compare_at_price', 'compare_at_price_max', 'compare_at_price_min',\n",
       "       'compare_at_price_varies', 'content', 'created_at', 'description',\n",
       "       'featured_image', 'handle', 'id', 'images', 'options', 'price',\n",
       "       'price_max', 'price_min', 'price_varies', 'published_at', 'tags',\n",
       "       'title', 'type', 'variants', 'vendor'],\n",
       "      dtype='object')"
      ]
     },
     "execution_count": 63,
     "metadata": {},
     "output_type": "execute_result"
    }
   ],
   "source": [
    "pens_df.columns"
   ]
  },
  {
   "cell_type": "markdown",
   "metadata": {},
   "source": [
    "## Basic Data clean"
   ]
  },
  {
   "cell_type": "code",
   "execution_count": 148,
   "metadata": {},
   "outputs": [
    {
     "name": "stdout",
     "output_type": "stream",
     "text": [
      "True     640\n",
      "False     24\n",
      "Name: In_Stock, dtype: int64\n",
      "Fountain Pens    667\n",
      "Name: Type, dtype: int64\n"
     ]
    }
   ],
   "source": [
    "print(pens_df.In_Stock.value_counts())\n",
    "print(pens_df.Type.value_counts())"
   ]
  },
  {
   "cell_type": "code",
   "execution_count": 134,
   "metadata": {},
   "outputs": [],
   "source": [
    "## convert string price to float\n",
    "# pens_df[\"Price\"] = pens_df.Price.apply(lambda x: float(re.sub(\"\\$|,\",\"\",x)))\n",
    "\n",
    "## convert string specs number to float\n",
    "specs = [\"Diameter_Body\",\"Diameter_Cap_(without_clip)\",\"Diameter_Cap_(with_clip)\",\"Diameter_Grip\",\"Length_Body\",\n",
    "        \"Length_Cap\",\"Length_Nib\",\"Length_Overall_(Closed)\",\"Length_Overall_(Posted)\",\"Weight_Body\",'Weight_Cap',\n",
    "         'Weight_Overall','Max_Ink_Capacity_Piston_Vac','Max_Ink_Capacity_Cartridge', 'Max_Ink_Capacity_Converter',\n",
    "       'Max_Ink_Capacity_Eyedropper',\"Cap_Rotations\",\"price\"]\n",
    "for spec in specs:\n",
    "    pens_df[spec] = pens_df[spec].apply(lambda x: float(re.findall(\"^[\\d\\.]+\",x)[0]) if type(x) == str else x)\n"
   ]
  },
  {
   "cell_type": "code",
   "execution_count": 42,
   "metadata": {
    "scrolled": true
   },
   "outputs": [
    {
     "data": {
      "text/plain": [
       "index\n",
       "290    NaN\n",
       "330    NaN\n",
       "372    NaN\n",
       "405    NaN\n",
       "462    NaN\n",
       "524    NaN\n",
       "556    NaN\n",
       "633    NaN\n",
       "645    NaN\n",
       "Name: Nib_Size, dtype: object"
      ]
     },
     "execution_count": 42,
     "metadata": {},
     "output_type": "execute_result"
    }
   ],
   "source": [
    "# pens_df.Nib_Size.apply(lambda x: type(x)).value_counts()\n",
    "# pens_df.Nib_Size[pens_df.Nib_Size.apply(lambda x: type(x)==float)]"
   ]
  },
  {
   "cell_type": "code",
   "execution_count": 115,
   "metadata": {},
   "outputs": [],
   "source": [
    "pens_df[\"In_Stock\"] = pens_df[\"available\"]\n",
    "pens_df.drop(\"available\",axis = 1,inplace=True)"
   ]
  },
  {
   "cell_type": "code",
   "execution_count": 137,
   "metadata": {},
   "outputs": [],
   "source": [
    "pens_df[\"created_at\"] = pd.to_datetime(pens_df[\"created_at\"])\n",
    "pens_df[\"published_at\"] = pd.to_datetime(pens_df[\"published_at\"])"
   ]
  },
  {
   "cell_type": "code",
   "execution_count": 144,
   "metadata": {},
   "outputs": [],
   "source": [
    "# pens_df.Brand.value_counts()\n",
    "# pens_df.Color.value_counts()\n",
    "# pens_df.Demonstrator.value_counts()\n",
    "# pens_df.Body_Material.value_counts()\n",
    "# pens_df.Cap_Type.value_counts()\n",
    "# pens_df[\"Compatible_inks_&_refills\"].value_counts()\n",
    "# pens_df.Filling_Mechanism.value_counts()\n",
    "# pens_df.Grip_Material.value_counts()\n",
    "# pens_df.Nib_Color.value_counts()\n",
    "# pens_df.Nib_Material.value_counts()\n",
    "# pens_df.Postable.value_counts()\n",
    "# pens_df.Retractable.value_counts()\n",
    "# pens_df.Trim.value_counts()\n",
    "# pens_df['available'].value_counts()\n",
    "\n",
    "# pens_df['content'].value_counts()\n",
    "# pens_df['created_at'].value_counts()\n",
    "# pens_df['description'].value_counts()\n",
    "# pens_df['featured_image'].value_counts()\n",
    "# pens_df['handle'].value_counts()\n",
    "\n",
    "# pens_df['id'].value_counts()\n",
    "# pens_df['images'].value_counts()\n",
    "# pens_df['published_at'].value_counts()\n",
    "# pens_df['title'].value_counts()\n"
   ]
  },
  {
   "cell_type": "code",
   "execution_count": 154,
   "metadata": {},
   "outputs": [
    {
     "data": {
      "text/plain": [
       "url                            https://www.gouletpens.com/collections/all-fou...\n",
       "Product_Code                                                             PN91111\n",
       "Name                               Pilot Metropolitan Fountain Pen - Black Plain\n",
       "In_Stock                                                                    True\n",
       "Price                                                                      23.99\n",
       "Nib_Size                                                Fine, Medium, 1.0mm Stub\n",
       "Brand                                                                      Pilot\n",
       "Type                                                               Fountain Pens\n",
       "Color                                                                      Black\n",
       "Demonstrator                                                                  No\n",
       "Body_Material                                                    Lacquered metal\n",
       "Cap_Type                                                                Snap-cap\n",
       "Compatible_inks_&_refills               Bottled inks, Proprietary ink cartridges\n",
       "Filling_Mechanism                                           Cartridge, Converter\n",
       "Grip_Material                                                              Resin\n",
       "Nib_Color                                                                 Silver\n",
       "Nib_Material                                                               Steel\n",
       "Postable                                                                     Yes\n",
       "Retractable                                                                   No\n",
       "Trim                                                                      Silver\n",
       "Diameter_Body                                                                 13\n",
       "Diameter_Cap_(without_clip)                                                   13\n",
       "Diameter_Cap_(with_clip)                                                    15.8\n",
       "Diameter_Grip                                                                8.4\n",
       "Length_Body                                                                  126\n",
       "Length_Cap                                                                    57\n",
       "Length_Nib                                                                    18\n",
       "Length_Overall_(Closed)                                                      138\n",
       "Length_Overall_(Posted)                                                      153\n",
       "Weight_Body                                                                   17\n",
       "Weight_Cap                                                                     9\n",
       "Weight_Overall                                                                26\n",
       "Max_Ink_Capacity_Piston_Vac                                                  1.1\n",
       "Max_Ink_Capacity_Cartridge                                                   1.1\n",
       "Max_Ink_Capacity_Converter                                                   1.3\n",
       "Max_Ink_Capacity_Eyedropper                                                  NaN\n",
       "Cap_Rotations                                                                NaN\n",
       "content                        <p>A fantastic value from Pilot, the Metropoli...\n",
       "created_at                                             2018-05-02 10:28:13-04:00\n",
       "description                    <p>A fantastic value from Pilot, the Metropoli...\n",
       "featured_image                 //cdn.shopify.com/s/files/1/2603/2528/products...\n",
       "handle                               pilot-metropolitan-fountain-pen-black-plain\n",
       "images                         ['//cdn.shopify.com/s/files/1/2603/2528/produc...\n",
       "published_at                                           2018-01-01 11:00:00-05:00\n",
       "Name: 1, dtype: object"
      ]
     },
     "execution_count": 154,
     "metadata": {},
     "output_type": "execute_result"
    }
   ],
   "source": [
    "pens_df.loc[1]"
   ]
  },
  {
   "cell_type": "code",
   "execution_count": 156,
   "metadata": {},
   "outputs": [],
   "source": [
    "pens_df = pens_df.drop(['compare_at_price', 'compare_at_price_max', 'compare_at_price_min',\n",
    "             'compare_at_price_varies','price_max', 'price_min', 'price_varies','tags',\n",
    "             'type', 'variants', 'vendor',\"Condition\",\"options\",\"price\",\"id\",\"title\",\"content\"],axis=1)"
   ]
  },
  {
   "cell_type": "code",
   "execution_count": 157,
   "metadata": {},
   "outputs": [],
   "source": [
    "pens_df.to_csv(\"clean_fountain_pen_dataset\")"
   ]
  },
  {
   "cell_type": "markdown",
   "metadata": {},
   "source": [
    "## Clean more complicated data\n",
    "\n",
    "- text data\n",
    "- extract series name\n",
    "- flaten dummy columns"
   ]
  },
  {
   "cell_type": "code",
   "execution_count": 160,
   "metadata": {},
   "outputs": [],
   "source": [
    "pens_df = pd.read_csv(\"clean_fountain_pen_dataset\").drop([\"Unnamed: 0\"],axis=1)\n",
    "# pens_df.head()"
   ]
  },
  {
   "cell_type": "markdown",
   "metadata": {},
   "source": [
    "### clean text data"
   ]
  },
  {
   "cell_type": "code",
   "execution_count": null,
   "metadata": {},
   "outputs": [],
   "source": [
    "for i in range(pens_df.shape[0]):\n",
    "    soup = bsoup(requests.get(pens_df.url[i]).text, 'lxml').find(\"div\",{\"data-section-type\":\"product\"})\n",
    "    try:\n",
    "        pens_df.set_value(i, \"description\", soup.find(\"div\",{\"class\":\"product-description js-productDesc\"}).text)\n",
    "    except:\n",
    "        print(\"-----\"+str(i))\n",
    "    print(i)"
   ]
  },
  {
   "cell_type": "markdown",
   "metadata": {},
   "source": [
    "## Predictors\n",
    "\n",
    "### Categorical:\n",
    "\n",
    "- Nib_Size(unsplited)\n",
    "- Brand\n",
    "- Color(unsplited)\n",
    "- Body_Material(unsplited)\n",
    "- Cap_Type\n",
    "- Compatible_inks_&_refills(unsplited)\n",
    "- Filling_Mechanism(unsplited)\n",
    "- Grip_Material\n",
    "- Nib_Color\n",
    "- Nib_Material(unsplited)\n",
    "- Trim\n",
    "- handle(unsplited of Brand, Color and so on)\n",
    "\n",
    "### Numeric:\n",
    "\n",
    "- Price\n",
    "- Diameter_Body\n",
    "- Diameter_Cap_(without_clip)\n",
    "- Diameter_Cap_(with_clip)\n",
    "- Diameter_Grip\n",
    "- Length_Body\n",
    "- Length_Cap\n",
    "- Length_Nib\n",
    "- Length_Overall_(Closed)\n",
    "- Length_Overall_(Posted)\n",
    "- Weight_Body\n",
    "- Weight_Cap\n",
    "- Weight_Overall\n",
    "- Max_Ink_Capacity_Piston_Vac\n",
    "- Max_Ink_Capacity_Cartridge\n",
    "- Max_Ink_Capacity_Converter\n",
    "- Max_Ink_Capacity_Eyedropper\n",
    "- Cap_Rotations\n",
    "- \n",
    "\n",
    "### Boolean\n",
    "\n",
    "- In_Stock\n",
    "- Demonstrator\n",
    "- Postable\n",
    "- Retractable\n",
    "- available\n",
    "- \n",
    "\n",
    "### Text\n",
    "\n",
    "- content\n",
    "- description\n",
    "- \n",
    "\n",
    "### datetime\n",
    "\n",
    "- create_at\n",
    "\n",
    "### image url \n",
    "\n",
    "- featured_image\n",
    "- images(list of images)\n",
    "\n",
    "### unique features \n",
    "- url\n",
    "- id"
   ]
  }
 ],
 "metadata": {
  "kernelspec": {
   "display_name": "Python 3",
   "language": "python",
   "name": "python3"
  },
  "language_info": {
   "codemirror_mode": {
    "name": "ipython",
    "version": 3
   },
   "file_extension": ".py",
   "mimetype": "text/x-python",
   "name": "python",
   "nbconvert_exporter": "python",
   "pygments_lexer": "ipython3",
   "version": "3.6.7"
  }
 },
 "nbformat": 4,
 "nbformat_minor": 2
}
